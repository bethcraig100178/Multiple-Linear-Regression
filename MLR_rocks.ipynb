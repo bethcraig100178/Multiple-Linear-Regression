{
 "cells": [
  {
   "cell_type": "markdown",
   "metadata": {},
   "source": [
    "# Multiple Linear Regression\n",
    "\n",
    "## A model to predict the uniaxial compressive strength (UCS) of rocks from their mineral and geometric properties\n",
    "\n",
    "This was a continous assessment requirement for my final module. The task was to select a dataset and perform multiple linear regression analysis using R. I am using it to train myself how to build a Juptyer notebook.\n",
    "\n",
    "The data was taken from http://users.stat.ufl.edu/~winner/datasets.html\n",
    "\n",
    "As well as the dependent variable UCS, 8 potential predictor variables are available:\n",
    "\n",
    "%Quartz, %Plagaoclase, %K.feldspar, %Hornblende, Grain size (mm), Grain area (mm^2), Aspect Ratio, Shape Factor \n"
   ]
  },
  {
   "cell_type": "markdown",
   "metadata": {},
   "source": [
    "## Load and Activate R\n",
    "\n",
    "The first step was to load and activate the IRKernel which I did following this tutorial\n",
    "\n",
    "https://www.datacamp.com/community/blog/jupyter-notebook-r#gs.z0gxLNc"
   ]
  },
  {
   "cell_type": "markdown",
   "metadata": {},
   "source": [
    "## Import the data and start exploring"
   ]
  },
  {
   "cell_type": "code",
   "execution_count": 1,
   "metadata": {
    "collapsed": false
   },
   "outputs": [],
   "source": [
    "#import the data and take a look\n",
    "link <- 'http://users.stat.ufl.edu/~winner/data/rockstrength.csv'\n",
    "rocks <- read.csv(link)"
   ]
  },
  {
   "cell_type": "markdown",
   "metadata": {},
   "source": [
    "I'm going to get rid of the id column straight away as it is not nessecary in R "
   ]
  },
  {
   "cell_type": "code",
   "execution_count": 315,
   "metadata": {
    "collapsed": false
   },
   "outputs": [],
   "source": [
    "rocks <- rocks[2:10] "
   ]
  },
  {
   "cell_type": "markdown",
   "metadata": {},
   "source": [
    "Check the data types (which are propably all numerical, but need to make sure)"
   ]
  },
  {
   "cell_type": "code",
   "execution_count": 316,
   "metadata": {
    "collapsed": false
   },
   "outputs": [
    {
     "name": "stdout",
     "output_type": "stream",
     "text": [
      "'data.frame':\t30 obs. of  9 variables:\n",
      " $ UCS   : num  100.6 112 117.5 100.9 94.5 ...\n",
      " $ quartz: num  40.3 47.1 45.4 41.3 33.8 37.2 40 39.1 44.2 35.1 ...\n",
      " $ plag  : num  9.98 8.5 9.1 7.72 4.1 7.4 5.44 5.1 5 5.51 ...\n",
      " $ kfds  : num  17 15 16.2 11 14 ...\n",
      " $ hb    : num  21.6 23 24 18.9 16 ...\n",
      " $ gs    : num  0.031 0.025 0.022 0.044 0.043 0.046 0.035 0.032 0.032 0.056 ...\n",
      " $ ga    : num  754 491 380 1520 1452 ...\n",
      " $ sf    : num  0.594 0.612 0.628 0.571 0.575 0.499 0.606 0.585 0.615 0.572 ...\n",
      " $ ar    : num  0.63 0.612 0.628 0.667 0.662 0.663 0.685 0.683 0.68 0.639 ...\n"
     ]
    }
   ],
   "source": [
    "str(rocks)"
   ]
  },
  {
   "cell_type": "markdown",
   "metadata": {},
   "source": [
    "All numercial, but very different scales\n",
    "\n",
    "Next up - have a look at the dependent variable (UCS). Does the assumption of normality hold?"
   ]
  },
  {
   "cell_type": "code",
   "execution_count": 317,
   "metadata": {
    "collapsed": false
   },
   "outputs": [
    {
     "data": {
      "text/plain": [
       "\n",
       "\tShapiro-Wilk normality test\n",
       "\n",
       "data:  rocks$UCS\n",
       "W = 1, p-value = 0.4\n"
      ]
     },
     "metadata": {},
     "output_type": "display_data"
    },
    {
     "data": {
      "image/png": "[encoded data removed]",
      "text/plain": [
       "Plot with title \"QQ-Plot for UCS\""
      ]
     },
     "metadata": {},
     "output_type": "display_data"
    }
   ],
   "source": [
    "library(repr)\n",
    "options(repr.plot.width=3, repr.plot.height=3) #recale the plot to a reasonable size\n",
    "qqnorm(rocks$UCS, main = 'QQ-Plot for UCS')\n",
    "qqline(rocks$UCS)\n",
    "shapiro.test(rocks$UCS)"
   ]
  },
  {
   "cell_type": "markdown",
   "metadata": {},
   "source": [
    "Since the QQ-plot is roughly a straight and the p-value from the Shapiro-Wilk test is > 0.05, there is no reason to query the assumption of a normally distributed dependent variable.\n",
    "\n",
    "The plot produced by the notebook was really big though, so I rescaled using the 'repr' package"
   ]
  },
  {
   "cell_type": "markdown",
   "metadata": {},
   "source": [
    "Next I want to check the relationships between the dependent variable and the predictors and also the relationships between the predictors. "
   ]
  },
  {
   "cell_type": "code",
   "execution_count": 318,
   "metadata": {
    "collapsed": false
   },
   "outputs": [
    {
     "data": {
      "text/html": [
       "<table>\n",
       "<thead><tr><th></th><th scope=col>UCS</th><th scope=col>quartz</th><th scope=col>plag</th><th scope=col>kfds</th><th scope=col>hb</th><th scope=col>gs</th><th scope=col>ga</th><th scope=col>sf</th><th scope=col>ar</th></tr></thead>\n",
       "<tbody>\n",
       "\t<tr><th scope=row>UCS</th><td> 1.000 </td><td> 0.520 </td><td> 0.3233</td><td> 0.2671</td><td> 0.694 </td><td>-0.8535</td><td>-0.8537</td><td> 0.7454</td><td>-0.1306</td></tr>\n",
       "\t<tr><th scope=row>quartz</th><td> 0.520 </td><td> 1.000 </td><td> 0.3671</td><td>-0.1382</td><td> 0.182 </td><td>-0.3401</td><td>-0.4047</td><td> 0.2171</td><td>-0.1796</td></tr>\n",
       "\t<tr><th scope=row>plag</th><td> 0.323 </td><td> 0.367 </td><td> 1.0000</td><td> 0.0299</td><td> 0.144 </td><td>-0.1297</td><td>-0.1707</td><td> 0.2501</td><td>-0.6496</td></tr>\n",
       "\t<tr><th scope=row>kfds</th><td> 0.267 </td><td>-0.138 </td><td> 0.0299</td><td> 1.0000</td><td> 0.628 </td><td>-0.4543</td><td>-0.4074</td><td> 0.0932</td><td>-0.3269</td></tr>\n",
       "\t<tr><th scope=row>hb</th><td> 0.694 </td><td> 0.182 </td><td> 0.1443</td><td> 0.6277</td><td> 1.000 </td><td>-0.7200</td><td>-0.6642</td><td> 0.5053</td><td>-0.2292</td></tr>\n",
       "\t<tr><th scope=row>gs</th><td>-0.854 </td><td>-0.340 </td><td>-0.1297</td><td>-0.4543</td><td>-0.720 </td><td> 1.0000</td><td> 0.9845</td><td>-0.6677</td><td> 0.0899</td></tr>\n",
       "\t<tr><th scope=row>ga</th><td>-0.854 </td><td>-0.405 </td><td>-0.1707</td><td>-0.4074</td><td>-0.664 </td><td> 0.9845</td><td> 1.0000</td><td>-0.6475</td><td> 0.0933</td></tr>\n",
       "\t<tr><th scope=row>sf</th><td> 0.745 </td><td> 0.217 </td><td> 0.2501</td><td> 0.0932</td><td> 0.505 </td><td>-0.6677</td><td>-0.6475</td><td> 1.0000</td><td>-0.0953</td></tr>\n",
       "\t<tr><th scope=row>ar</th><td>-0.131 </td><td>-0.180 </td><td>-0.6496</td><td>-0.3269</td><td>-0.229 </td><td> 0.0899</td><td> 0.0933</td><td>-0.0953</td><td> 1.0000</td></tr>\n",
       "</tbody>\n",
       "</table>\n"
      ],
      "text/latex": [
       "\\begin{tabular}{r|lllllllll}\n",
       "  & UCS & quartz & plag & kfds & hb & gs & ga & sf & ar\\\\\n",
       "\\hline\n",
       "\tUCS &  1.000  &  0.520  &  0.3233 &  0.2671 &  0.694  & -0.8535 & -0.8537 &  0.7454 & -0.1306\\\\\n",
       "\tquartz &  0.520  &  1.000  &  0.3671 & -0.1382 &  0.182  & -0.3401 & -0.4047 &  0.2171 & -0.1796\\\\\n",
       "\tplag &  0.323  &  0.367  &  1.0000 &  0.0299 &  0.144  & -0.1297 & -0.1707 &  0.2501 & -0.6496\\\\\n",
       "\tkfds &  0.267  & -0.138  &  0.0299 &  1.0000 &  0.628  & -0.4543 & -0.4074 &  0.0932 & -0.3269\\\\\n",
       "\thb &  0.694  &  0.182  &  0.1443 &  0.6277 &  1.000  & -0.7200 & -0.6642 &  0.5053 & -0.2292\\\\\n",
       "\tgs & -0.854  & -0.340  & -0.1297 & -0.4543 & -0.720  &  1.0000 &  0.9845 & -0.6677 &  0.0899\\\\\n",
       "\tga & -0.854  & -0.405  & -0.1707 & -0.4074 & -0.664  &  0.9845 &  1.0000 & -0.6475 &  0.0933\\\\\n",
       "\tsf &  0.745  &  0.217  &  0.2501 &  0.0932 &  0.505  & -0.6677 & -0.6475 &  1.0000 & -0.0953\\\\\n",
       "\tar & -0.131  & -0.180  & -0.6496 & -0.3269 & -0.229  &  0.0899 &  0.0933 & -0.0953 &  1.0000\\\\\n",
       "\\end{tabular}\n"
      ],
      "text/markdown": [
       "\n",
       "| <!--/--> | UCS | quartz | plag | kfds | hb | gs | ga | sf | ar | \n",
       "|---|---|---|---|---|---|---|---|---|\n",
       "| UCS |  1.000  |  0.520  |  0.3233 |  0.2671 |  0.694  | -0.8535 | -0.8537 |  0.7454 | -0.1306 | \n",
       "| quartz |  0.520  |  1.000  |  0.3671 | -0.1382 |  0.182  | -0.3401 | -0.4047 |  0.2171 | -0.1796 | \n",
       "| plag |  0.323  |  0.367  |  1.0000 |  0.0299 |  0.144  | -0.1297 | -0.1707 |  0.2501 | -0.6496 | \n",
       "| kfds |  0.267  | -0.138  |  0.0299 |  1.0000 |  0.628  | -0.4543 | -0.4074 |  0.0932 | -0.3269 | \n",
       "| hb |  0.694  |  0.182  |  0.1443 |  0.6277 |  1.000  | -0.7200 | -0.6642 |  0.5053 | -0.2292 | \n",
       "| gs | -0.854  | -0.340  | -0.1297 | -0.4543 | -0.720  |  1.0000 |  0.9845 | -0.6677 |  0.0899 | \n",
       "| ga | -0.854  | -0.405  | -0.1707 | -0.4074 | -0.664  |  0.9845 |  1.0000 | -0.6475 |  0.0933 | \n",
       "| sf |  0.745  |  0.217  |  0.2501 |  0.0932 |  0.505  | -0.6677 | -0.6475 |  1.0000 | -0.0953 | \n",
       "| ar | -0.131  | -0.180  | -0.6496 | -0.3269 | -0.229  |  0.0899 |  0.0933 | -0.0953 |  1.0000 | \n",
       "\n",
       "\n"
      ],
      "text/plain": [
       "       UCS    quartz plag    kfds    hb     gs      ga      sf      ar     \n",
       "UCS     1.000  0.520  0.3233  0.2671  0.694 -0.8535 -0.8537  0.7454 -0.1306\n",
       "quartz  0.520  1.000  0.3671 -0.1382  0.182 -0.3401 -0.4047  0.2171 -0.1796\n",
       "plag    0.323  0.367  1.0000  0.0299  0.144 -0.1297 -0.1707  0.2501 -0.6496\n",
       "kfds    0.267 -0.138  0.0299  1.0000  0.628 -0.4543 -0.4074  0.0932 -0.3269\n",
       "hb      0.694  0.182  0.1443  0.6277  1.000 -0.7200 -0.6642  0.5053 -0.2292\n",
       "gs     -0.854 -0.340 -0.1297 -0.4543 -0.720  1.0000  0.9845 -0.6677  0.0899\n",
       "ga     -0.854 -0.405 -0.1707 -0.4074 -0.664  0.9845  1.0000 -0.6475  0.0933\n",
       "sf      0.745  0.217  0.2501  0.0932  0.505 -0.6677 -0.6475  1.0000 -0.0953\n",
       "ar     -0.131 -0.180 -0.6496 -0.3269 -0.229  0.0899  0.0933 -0.0953  1.0000"
      ]
     },
     "metadata": {},
     "output_type": "display_data"
    }
   ],
   "source": [
    "cor(rocks)"
   ]
  },
  {
   "cell_type": "code",
   "execution_count": 319,
   "metadata": {
    "collapsed": false
   },
   "outputs": [
    {
     "data": {
      "image/png": "[encoded data removed]",
      "text/plain": [
       "plot without title"
      ]
     },
     "metadata": {},
     "output_type": "display_data"
    }
   ],
   "source": [
    "options(repr.plot.width=6, repr.plot.height=6)\n",
    "pairs(rocks)"
   ]
  },
  {
   "cell_type": "markdown",
   "metadata": {},
   "source": [
    "The most striking observation is that two of the variables 'gs' and 'ga' are very highly correlated with each other (cor > 0.98). \n",
    "\n",
    "'gs' is grain size and 'ga' is grain area. Since they are closely related attributes and so highly correlated, I am just going to get rid of one of them  -  'ga'. "
   ]
  },
  {
   "cell_type": "code",
   "execution_count": 320,
   "metadata": {
    "collapsed": false
   },
   "outputs": [],
   "source": [
    "rocks <- rocks[-7]"
   ]
  },
  {
   "cell_type": "markdown",
   "metadata": {},
   "source": [
    "And re-run the pairs() function to take another look"
   ]
  },
  {
   "cell_type": "code",
   "execution_count": 321,
   "metadata": {
    "collapsed": false,
    "scrolled": true
   },
   "outputs": [
    {
     "data": {
      "image/png": "[encoded data removed]",
      "text/plain": [
       "plot without title"
      ]
     },
     "metadata": {},
     "output_type": "display_data"
    }
   ],
   "source": [
    "pairs(rocks)"
   ]
  },
  {
   "cell_type": "markdown",
   "metadata": {},
   "source": [
    "Lots of promising correlation between UCS and the predictors, particularily quartz, hb, gs and sf. But also lots of correlation between the predictors themselves, which means PCA is a good next step."
   ]
  },
  {
   "cell_type": "markdown",
   "metadata": {},
   "source": [
    "## PCA"
   ]
  },
  {
   "cell_type": "code",
   "execution_count": 322,
   "metadata": {
    "collapsed": false,
    "scrolled": true
   },
   "outputs": [
    {
     "data": {
      "text/plain": [
       "Importance of components:\n",
       "                        PC1   PC2   PC3    PC4    PC5    PC6    PC7\n",
       "Standard deviation     1.69 1.249 1.113 0.8172 0.5167 0.4869 0.3944\n",
       "Proportion of Variance 0.41 0.223 0.177 0.0954 0.0381 0.0339 0.0222\n",
       "Cumulative Proportion  0.41 0.633 0.810 0.9058 0.9439 0.9778 1.0000"
      ]
     },
     "metadata": {},
     "output_type": "display_data"
    }
   ],
   "source": [
    "rocks_scaled <- as.data.frame(scale(rocks[2:8])) #normalize so all predictor variables are on the same scale\n",
    "rocks.pca <- prcomp(rocks_scaled) # run pca\n",
    "summary(rocks.pca) #ouptut from pca"
   ]
  },
  {
   "cell_type": "code",
   "execution_count": 323,
   "metadata": {
    "collapsed": false
   },
   "outputs": [
    {
     "data": {
      "image/png": "[encoded data removed]",
      "text/plain": [
       "Plot with title \"Scree Plot for PCA\""
      ]
     },
     "metadata": {},
     "output_type": "display_data"
    }
   ],
   "source": [
    "options(repr.plot.width=4, repr.plot.height=4)\n",
    "screeplot(rocks.pca, type=\"lines\", main = 'Scree Plot for PCA')"
   ]
  },
  {
   "cell_type": "markdown",
   "metadata": {},
   "source": [
    "From the PCA output, the first 3 components account for over 80% of the variation in the dataset and each account for the \n",
    "variance of > 1 variable (scree-plot) so I will add them to the rocks data frame and attempt some models.\n",
    "\n",
    "With PCA, it's a good idea to understand which variables are contributing to each PCA element and to what extend using a biplot."
   ]
  },
  {
   "cell_type": "code",
   "execution_count": 324,
   "metadata": {
    "collapsed": false,
    "scrolled": true
   },
   "outputs": [
    {
     "data": {
      "image/png": "[encoded data removed]",
      "text/plain": [
       "plot without title"
      ]
     },
     "metadata": {},
     "output_type": "display_data"
    }
   ],
   "source": [
    "biplot(rocks.pca)"
   ]
  },
  {
   "cell_type": "markdown",
   "metadata": {},
   "source": [
    "what does the biplot tell us"
   ]
  },
  {
   "cell_type": "code",
   "execution_count": 325,
   "metadata": {
    "collapsed": false
   },
   "outputs": [],
   "source": [
    "#add PC1, 2 and 3 to the data.frame\n",
    "rocks_with_PCA <- data.frame(rocks, rocks.pca$x[,1:3])"
   ]
  },
  {
   "cell_type": "markdown",
   "metadata": {},
   "source": [
    "# Models"
   ]
  },
  {
   "cell_type": "markdown",
   "metadata": {},
   "source": [
    "First, just try the 3 PCA variables"
   ]
  },
  {
   "cell_type": "code",
   "execution_count": 326,
   "metadata": {
    "collapsed": false
   },
   "outputs": [
    {
     "data": {
      "text/plain": [
       "\n",
       "Call:\n",
       "lm(formula = UCS ~ PC1 + PC2 + PC3, data = rocks_with_PCA)\n",
       "\n",
       "Residuals:\n",
       "    Min      1Q  Median      3Q     Max \n",
       "-12.452  -2.195   0.995   2.071   6.960 \n",
       "\n",
       "Coefficients:\n",
       "            Estimate Std. Error t value Pr(>|t|)    \n",
       "(Intercept)  105.577      0.748  141.23  < 2e-16 ***\n",
       "PC1           -5.285      0.449  -11.78  6.3e-12 ***\n",
       "PC2           -0.735      0.609   -1.21     0.24    \n",
       "PC3            3.820      0.683    5.59  7.1e-06 ***\n",
       "---\n",
       "Signif. codes:  0 '***' 0.001 '**' 0.01 '*' 0.05 '.' 0.1 ' ' 1\n",
       "\n",
       "Residual standard error: 4.09 on 26 degrees of freedom\n",
       "Multiple R-squared:  0.868,\tAdjusted R-squared:  0.853 \n",
       "F-statistic: 57.2 on 3 and 26 DF,  p-value: 1.39e-11\n"
      ]
     },
     "metadata": {},
     "output_type": "display_data"
    }
   ],
   "source": [
    "#just try everything model\n",
    "model <- lm(UCS ~ PC1 + PC2 + PC3, data = rocks_with_PCA)\n",
    "summary(model)"
   ]
  },
  {
   "cell_type": "markdown",
   "metadata": {},
   "source": [
    "Coefficient for PC2 is not statistically significant, so I'm going to remove it and re-run the model with just PC1 and PC3"
   ]
  },
  {
   "cell_type": "code",
   "execution_count": 327,
   "metadata": {
    "collapsed": false
   },
   "outputs": [
    {
     "data": {
      "text/plain": [
       "\n",
       "Call:\n",
       "lm(formula = UCS ~ PC1 + PC3, data = rocks_with_PCA)\n",
       "\n",
       "Residuals:\n",
       "    Min      1Q  Median      3Q     Max \n",
       "-10.987  -2.609   0.747   2.125   7.582 \n",
       "\n",
       "Coefficients:\n",
       "            Estimate Std. Error t value Pr(>|t|)    \n",
       "(Intercept)  105.577      0.754  140.05  < 2e-16 ***\n",
       "PC1           -5.285      0.452  -11.68  4.6e-12 ***\n",
       "PC3            3.820      0.689    5.55  7.0e-06 ***\n",
       "---\n",
       "Signif. codes:  0 '***' 0.001 '**' 0.01 '*' 0.05 '.' 0.1 ' ' 1\n",
       "\n",
       "Residual standard error: 4.13 on 27 degrees of freedom\n",
       "Multiple R-squared:  0.861,\tAdjusted R-squared:  0.851 \n",
       "F-statistic: 83.6 on 2 and 27 DF,  p-value: 2.69e-12\n"
      ]
     },
     "metadata": {},
     "output_type": "display_data"
    }
   ],
   "source": [
    "model <- lm(UCS ~ PC1 + PC3, data = rocks_with_PCA)\n",
    "summary(model)"
   ]
  },
  {
   "cell_type": "markdown",
   "metadata": {},
   "source": [
    "Using just PC1 and PC3 gives a decent model that accounts for 85% of the variation. \n",
    "Definetly worth checking out the diagnostic plots and cross-validating."
   ]
  },
  {
   "cell_type": "markdown",
   "metadata": {},
   "source": [
    "### Diagnostic Plots for PC1 + PC3 model"
   ]
  },
  {
   "cell_type": "code",
   "execution_count": 328,
   "metadata": {
    "collapsed": false
   },
   "outputs": [
    {
     "data": {
      "image/png": "[encoded data removed]",
      "text/plain": [
       "Plot with title \"\""
      ]
     },
     "metadata": {},
     "output_type": "display_data"
    }
   ],
   "source": [
    "options(repr.plot.width=5, repr.plot.height=5)\n",
    "par(mfrow = c(2,2))\n",
    "plot(model)"
   ]
  },
  {
   "cell_type": "markdown",
   "metadata": {},
   "source": [
    "Not too bad but two things strike me (i) Observation 11 has a relatively high Cook's distance compared to the other points and approaching 0.5\n",
    "(ii) Observation 15 is out of trend, not massively but worth checking out it's effect on the model"
   ]
  },
  {
   "cell_type": "markdown",
   "metadata": {},
   "source": [
    "### Cross validation for model PC1 + PC3\n",
    "\n",
    "Since there are only 30 observations, I'm going to try the 'leave one out' approach to cross validation\n",
    "and calculate the RMSD (root mean squared deviation) from the output."
   ]
  },
  {
   "cell_type": "markdown",
   "metadata": {},
   "source": [
    "Note: I came across a bug in the DAAG package for the cv.lm function when both printit and plotit are set to false. Have found a fix (see https://stackoverflow.com/questions/40700867/cvlm-daag-setting-printit-false-causes-an-issue-object-sumss-not-found). You may need to force an update of the DAAG package to get the following code to work or set either printit or plotit to TRUE in the cv.lm code"
   ]
  },
  {
   "cell_type": "code",
   "execution_count": 329,
   "metadata": {
    "collapsed": false,
    "scrolled": true
   },
   "outputs": [
    {
     "data": {
      "text/html": [
       "4.3739"
      ],
      "text/latex": [
       "4.3739"
      ],
      "text/markdown": [
       "4.3739"
      ],
      "text/plain": [
       "[1] 4.37"
      ]
     },
     "metadata": {},
     "output_type": "display_data"
    }
   ],
   "source": [
    "library(lattice)\n",
    "library(DAAG)\n",
    "LOOcv_PC1_PC3= cv.lm(rocks_with_PCA, model, m =30, printit = FALSE, plotit = FALSE)\n",
    "RMSD_PC1_PC3<-sqrt(mean((LOOcv_PC1_PC3$cvpred-LOOcv_PC1_PC3$UCS)^2))\n",
    "round(RMSD_PC1_PC3, 4)"
   ]
  },
  {
   "cell_type": "markdown",
   "metadata": {
    "collapsed": true
   },
   "source": [
    "To assess the influence/impact of Observations 11 and 15 on the model, I am going to re-run it with (i) just Obs 11 removed (ii) just Obs 15 removed and (iii) both Obs 11 and 15 removed."
   ]
  },
  {
   "cell_type": "markdown",
   "metadata": {},
   "source": [
    "Since I'm going to repeat the RMSD calculation a few times, I'm going to put it into a function"
   ]
  },
  {
   "cell_type": "code",
   "execution_count": 330,
   "metadata": {
    "collapsed": false
   },
   "outputs": [],
   "source": [
    "func_RMSD <- function(cv_output){\n",
    "   rmsd <- sqrt(mean((cv_output$cvpred - cv_output$UCS)^2)) #hardwired with UCS as function is only for use in this notebook\n",
    "    return (rmsd)\n",
    "}"
   ]
  },
  {
   "cell_type": "markdown",
   "metadata": {},
   "source": [
    "#### Obs 11 removed"
   ]
  },
  {
   "cell_type": "code",
   "execution_count": 331,
   "metadata": {
    "collapsed": false
   },
   "outputs": [
    {
     "data": {
      "text/plain": [
       "\n",
       "Call:\n",
       "lm(formula = UCS ~ PC1 + PC3, data = rocks_with_PCA[-11, ])\n",
       "\n",
       "Residuals:\n",
       "   Min     1Q Median     3Q    Max \n",
       "-10.70  -2.68   0.75   2.05   7.21 \n",
       "\n",
       "Coefficients:\n",
       "            Estimate Std. Error t value Pr(>|t|)    \n",
       "(Intercept)  105.802      0.760  139.20  < 2e-16 ***\n",
       "PC1           -5.100      0.465  -10.96    3e-11 ***\n",
       "PC3            3.280      0.785    4.18  0.00029 ***\n",
       "---\n",
       "Signif. codes:  0 '***' 0.001 '**' 0.01 '*' 0.05 '.' 0.1 ' ' 1\n",
       "\n",
       "Residual standard error: 4.06 on 26 degrees of freedom\n",
       "Multiple R-squared:  0.83,\tAdjusted R-squared:  0.817 \n",
       "F-statistic: 63.4 on 2 and 26 DF,  p-value: 9.94e-11\n"
      ]
     },
     "metadata": {},
     "output_type": "display_data"
    },
    {
     "data": {
      "image/png": "[encoded data removed]",
      "text/plain": [
       "Plot with title \"\""
      ]
     },
     "metadata": {},
     "output_type": "display_data"
    }
   ],
   "source": [
    "model_no11 <- lm(UCS ~ PC1 + PC3, data = rocks_with_PCA[-11,])\n",
    "summary(model_no11)\n",
    "par(mfrow = c(2,2))\n",
    "plot(model_no11)\n",
    "LOOcv_PC1_PC3_no11 <- cv.lm(rocks_with_PCA[-11,] , model_no11, m =29, printit = FALSE, plotit = FALSE)\n",
    "RMSD_no11 <- func_RMSD(LOOcv_PC1_PC3_no11)\n",
    "\n"
   ]
  },
  {
   "cell_type": "markdown",
   "metadata": {},
   "source": [
    "#### Obs 15 removed"
   ]
  },
  {
   "cell_type": "code",
   "execution_count": 332,
   "metadata": {
    "collapsed": false,
    "scrolled": false
   },
   "outputs": [
    {
     "data": {
      "text/plain": [
       "\n",
       "Call:\n",
       "lm(formula = UCS ~ PC1 + PC3, data = rocks_with_PCA[-15, ])\n",
       "\n",
       "Residuals:\n",
       "   Min     1Q Median     3Q    Max \n",
       "-7.929 -2.097  0.716  1.851  7.099 \n",
       "\n",
       "Coefficients:\n",
       "            Estimate Std. Error t value Pr(>|t|)    \n",
       "(Intercept)  105.970      0.663  159.88  < 2e-16 ***\n",
       "PC1           -5.508      0.397  -13.87  1.6e-13 ***\n",
       "PC3            3.956      0.596    6.63  4.9e-07 ***\n",
       "---\n",
       "Signif. codes:  0 '***' 0.001 '**' 0.01 '*' 0.05 '.' 0.1 ' ' 1\n",
       "\n",
       "Residual standard error: 3.57 on 26 degrees of freedom\n",
       "Multiple R-squared:   0.9,\tAdjusted R-squared:  0.892 \n",
       "F-statistic:  117 on 2 and 26 DF,  p-value: 9.9e-14\n"
      ]
     },
     "metadata": {},
     "output_type": "display_data"
    },
    {
     "data": {
      "image/png": "[encoded data removed]",
      "text/plain": [
       "Plot with title \"\""
      ]
     },
     "metadata": {},
     "output_type": "display_data"
    }
   ],
   "source": [
    "model_no15 <- lm(UCS ~ PC1 + PC3, data = rocks_with_PCA[-15,])\n",
    "summary(model_no15)\n",
    "par(mfrow = c(2,2))\n",
    "plot(model_no15)\n",
    "LOOcv_PC1_PC3_no15 <- cv.lm(rocks_with_PCA[-15,] , model_no15, m =29, printit = FALSE, plotit = FALSE)\n",
    "RMSD_no15 <- func_RMSD(LOOcv_PC1_PC3_no15)"
   ]
  },
  {
   "cell_type": "markdown",
   "metadata": {},
   "source": [
    "#### Obs 11 and 15 removed"
   ]
  },
  {
   "cell_type": "code",
   "execution_count": 333,
   "metadata": {
    "collapsed": false,
    "scrolled": false
   },
   "outputs": [
    {
     "data": {
      "text/plain": [
       "\n",
       "Call:\n",
       "lm(formula = UCS ~ PC1 + PC3, data = rocks_with_PCA[-c(11, 15), \n",
       "    ])\n",
       "\n",
       "Residuals:\n",
       "   Min     1Q Median     3Q    Max \n",
       "-7.347 -2.356  0.728  1.720  6.775 \n",
       "\n",
       "Coefficients:\n",
       "            Estimate Std. Error t value Pr(>|t|)    \n",
       "(Intercept)  106.161      0.664  159.79  < 2e-16 ***\n",
       "PC1           -5.338      0.408  -13.09  1.1e-12 ***\n",
       "PC3            3.471      0.678    5.12  2.8e-05 ***\n",
       "---\n",
       "Signif. codes:  0 '***' 0.001 '**' 0.01 '*' 0.05 '.' 0.1 ' ' 1\n",
       "\n",
       "Residual standard error: 3.5 on 25 degrees of freedom\n",
       "Multiple R-squared:  0.878,\tAdjusted R-squared:  0.869 \n",
       "F-statistic: 90.4 on 2 and 25 DF,  p-value: 3.61e-12\n"
      ]
     },
     "metadata": {},
     "output_type": "display_data"
    },
    {
     "data": {
      "image/png": "[encoded data removed]",
      "text/plain": [
       "Plot with title \"\""
      ]
     },
     "metadata": {},
     "output_type": "display_data"
    }
   ],
   "source": [
    "model_no11_no15 <- lm(UCS ~ PC1 + PC3, data = rocks_with_PCA[-c(11, 15),])\n",
    "summary(model_no11_no15)\n",
    "par(mfrow = c(2,2))\n",
    "plot(model_no11_no15)\n",
    "LOOcv_PC1_PC3_no11_no15 <- cv.lm(rocks_with_PCA[-c(11, 15),], model_no11, m =28, printit = FALSE, plotit = FALSE)\n",
    "RMSD_no11_no15 <- func_RMSD(LOOcv_PC1_PC3_no11_no15)\n",
    "\n"
   ]
  },
  {
   "cell_type": "code",
   "execution_count": 334,
   "metadata": {
    "collapsed": false
   },
   "outputs": [],
   "source": [
    "#make a data frame summarizing Adj R2, RSE and F to compare the 4 models\n",
    "adj_r2 <- c(summary(model)$r.squared, summary(model_no15)$r.squared,summary(model_no11)$r.squared,\n",
    "            summary(model_no11_no15)$r.squared)\n",
    "RSE <- c(summary(model)$sigma, summary(model_no15)$sigma,summary(model_no11)$sigma,summary(model_no11_no15)$sigma)\n",
    "RMSD_all <- c(RMSD_PC1_PC3, RMSD_no15, RMSD_no11, RMSD_no11_no15)"
   ]
  },
  {
   "cell_type": "code",
   "execution_count": 335,
   "metadata": {
    "collapsed": false
   },
   "outputs": [
    {
     "data": {
      "text/html": [
       "<table>\n",
       "<thead><tr><th></th><th scope=col>adj_r2</th><th scope=col>RSE</th><th scope=col>RMSD_all</th></tr></thead>\n",
       "<tbody>\n",
       "\t<tr><th scope=row>pca all</th><td>0.861</td><td>4.13 </td><td>4.37 </td></tr>\n",
       "\t<tr><th scope=row>pca no 15</th><td>0.900</td><td>3.57 </td><td>3.82 </td></tr>\n",
       "\t<tr><th scope=row>pca no 11</th><td>0.830</td><td>4.06 </td><td>4.27 </td></tr>\n",
       "\t<tr><th scope=row>pca no 11 and 15</th><td>0.878</td><td>3.50 </td><td>3.73 </td></tr>\n",
       "</tbody>\n",
       "</table>\n"
      ],
      "text/latex": [
       "\\begin{tabular}{r|lll}\n",
       "  & adj\\_r2 & RSE & RMSD\\_all\\\\\n",
       "\\hline\n",
       "\tpca all & 0.861 & 4.13  & 4.37 \\\\\n",
       "\tpca no 15 & 0.900 & 3.57  & 3.82 \\\\\n",
       "\tpca no 11 & 0.830 & 4.06  & 4.27 \\\\\n",
       "\tpca no 11 and 15 & 0.878 & 3.50  & 3.73 \\\\\n",
       "\\end{tabular}\n"
      ],
      "text/markdown": [
       "\n",
       "| <!--/--> | adj_r2 | RSE | RMSD_all | \n",
       "|---|---|---|---|\n",
       "| pca all | 0.861 | 4.13  | 4.37  | \n",
       "| pca no 15 | 0.900 | 3.57  | 3.82  | \n",
       "| pca no 11 | 0.830 | 4.06  | 4.27  | \n",
       "| pca no 11 and 15 | 0.878 | 3.50  | 3.73  | \n",
       "\n",
       "\n"
      ],
      "text/plain": [
       "                 adj_r2 RSE  RMSD_all\n",
       "pca all          0.861  4.13 4.37    \n",
       "pca no 15        0.900  3.57 3.82    \n",
       "pca no 11        0.830  4.06 4.27    \n",
       "pca no 11 and 15 0.878  3.50 3.73    "
      ]
     },
     "metadata": {},
     "output_type": "display_data"
    }
   ],
   "source": [
    "model_comparison <- data.frame(adj_r2, RSE, RMSD_all)\n",
    "row.names(model_comparison) <- c(\"pca all\", \"pca no 15\", \"pca no 11\", \"pca no 11 and 15\")\n",
    "model_comparison"
   ]
  },
  {
   "cell_type": "code",
   "execution_count": 336,
   "metadata": {
    "collapsed": false
   },
   "outputs": [
    {
     "data": {
      "image/png": "[encoded data removed]",
      "text/plain": [
       "Plot with title \"Predicted vs Actual\""
      ]
     },
     "metadata": {},
     "output_type": "display_data"
    }
   ],
   "source": [
    "options(repr.plot.width=3, repr.plot.height=3)\n",
    "plot(rocks_with_PCA[-c(11, 15),]$UCS, LOOcv_PC1_PC3_no11_no15$cvpred, xlab = 'UCS', ylab = 'predicted', \n",
    "     main = 'Predicted vs Actual',\n",
    "    cex.lab = 0.5, cex.axis = 0.7)\n",
    "abline(a = 0, b= 1) # add reference line for predicted = actual"
   ]
  },
  {
   "cell_type": "markdown",
   "metadata": {},
   "source": [
    "## Models without PCA\n",
    "\n",
    "Most of the variables contribute to PC1 and PC3 so it is a bit difficult to interpret what they mean.\n",
    "There is too much multicolinearity to bother trying models with all of the\n",
    "available variables but since a few of the variables are highly correlation with the dependent variable, I am wondering if maybe a simple model with 1 or 2 of the variables might compare favourably with the model built using PC1 + PC3. Such a model would have the advantage of being very straight forward and understandable so some compromise on performance might be acceptable."
   ]
  },
  {
   "cell_type": "code",
   "execution_count": 337,
   "metadata": {
    "collapsed": false
   },
   "outputs": [
    {
     "data": {
      "text/plain": [
       "Subset selection object\n",
       "Call: regsubsets.formula(UCS ~ ., data = rocks, nvmax = 3)\n",
       "7 Variables  (and intercept)\n",
       "       Forced in Forced out\n",
       "quartz     FALSE      FALSE\n",
       "plag       FALSE      FALSE\n",
       "kfds       FALSE      FALSE\n",
       "hb         FALSE      FALSE\n",
       "gs         FALSE      FALSE\n",
       "sf         FALSE      FALSE\n",
       "ar         FALSE      FALSE\n",
       "1 subsets of each size up to 3\n",
       "Selection Algorithm: exhaustive\n",
       "         quartz plag kfds hb  gs  sf  ar \n",
       "1  ( 1 ) \" \"    \" \"  \" \"  \" \" \"*\" \" \" \" \"\n",
       "2  ( 1 ) \"*\"    \" \"  \" \"  \" \" \"*\" \" \" \" \"\n",
       "3  ( 1 ) \"*\"    \" \"  \" \"  \" \" \"*\" \"*\" \" \""
      ]
     },
     "metadata": {},
     "output_type": "display_data"
    }
   ],
   "source": [
    "#Best Subset with max 3 variables (no point going higher, too much correlation)\n",
    "library(leaps)\n",
    "best_subset <- regsubsets(UCS~., data = rocks, nvmax = 3)\n",
    "summary(best_subset)"
   ]
  },
  {
   "cell_type": "markdown",
   "metadata": {},
   "source": [
    "This output tells me that the best model with one predictor uses 'gs', the best with two predictors uses 'gs' and 'quartz' and the best predictor with three variables uses 'gs', 'quartz' and 'sf'"
   ]
  },
  {
   "cell_type": "code",
   "execution_count": 338,
   "metadata": {
    "collapsed": false
   },
   "outputs": [
    {
     "data": {
      "text/html": [
       "<table>\n",
       "<thead><tr><th></th><th scope=col>gs</th><th scope=col>quartz</th><th scope=col>sf</th></tr></thead>\n",
       "<tbody>\n",
       "\t<tr><th scope=row>gs</th><td> 1.000</td><td>-0.340</td><td>-0.668</td></tr>\n",
       "\t<tr><th scope=row>quartz</th><td>-0.340</td><td> 1.000</td><td> 0.217</td></tr>\n",
       "\t<tr><th scope=row>sf</th><td>-0.668</td><td> 0.217</td><td> 1.000</td></tr>\n",
       "</tbody>\n",
       "</table>\n"
      ],
      "text/latex": [
       "\\begin{tabular}{r|lll}\n",
       "  & gs & quartz & sf\\\\\n",
       "\\hline\n",
       "\tgs &  1.000 & -0.340 & -0.668\\\\\n",
       "\tquartz & -0.340 &  1.000 &  0.217\\\\\n",
       "\tsf & -0.668 &  0.217 &  1.000\\\\\n",
       "\\end{tabular}\n"
      ],
      "text/markdown": [
       "\n",
       "| <!--/--> | gs | quartz | sf | \n",
       "|---|---|---|\n",
       "| gs |  1.000 | -0.340 | -0.668 | \n",
       "| quartz | -0.340 |  1.000 |  0.217 | \n",
       "| sf | -0.668 |  0.217 |  1.000 | \n",
       "\n",
       "\n"
      ],
      "text/plain": [
       "       gs     quartz sf    \n",
       "gs      1.000 -0.340 -0.668\n",
       "quartz -0.340  1.000  0.217\n",
       "sf     -0.668  0.217  1.000"
      ]
     },
     "metadata": {},
     "output_type": "display_data"
    }
   ],
   "source": [
    "cor(rocks[c(\"gs\", \"quartz\", \"sf\")])"
   ]
  },
  {
   "cell_type": "markdown",
   "metadata": {},
   "source": [
    "But 'gs' and 'sf' are correlated (-0.668) and so only the 1 and 2 variable solutions were trialed. The same procedure as above was followed and the best performing model was found to be 'gs' + 'quartz' with observation 15 removed."
   ]
  },
  {
   "cell_type": "code",
   "execution_count": 339,
   "metadata": {
    "collapsed": false
   },
   "outputs": [
    {
     "data": {
      "text/plain": [
       "\n",
       "Call:\n",
       "lm(formula = UCS ~ gs + quartz, data = rocks[-15, ])\n",
       "\n",
       "Residuals:\n",
       "   Min     1Q Median     3Q    Max \n",
       "-7.345 -3.006 -0.018  2.886 10.109 \n",
       "\n",
       "Coefficients:\n",
       "            Estimate Std. Error t value Pr(>|t|)    \n",
       "(Intercept)  113.970      8.246   13.82  1.7e-13 ***\n",
       "gs          -799.726     84.492   -9.47  6.6e-10 ***\n",
       "quartz         0.466      0.170    2.74    0.011 *  \n",
       "---\n",
       "Signif. codes:  0 '***' 0.001 '**' 0.01 '*' 0.05 '.' 0.1 ' ' 1\n",
       "\n",
       "Residual standard error: 4.57 on 26 degrees of freedom\n",
       "Multiple R-squared:  0.836,\tAdjusted R-squared:  0.823 \n",
       "F-statistic: 66.1 on 2 and 26 DF,  p-value: 6.33e-11\n"
      ]
     },
     "metadata": {},
     "output_type": "display_data"
    }
   ],
   "source": [
    "model_gs_quartz_no15 <- lm(UCS ~ gs + quartz, data = rocks[-15,])\n",
    "summary(model_gs_quartz_no15)\n",
    "options(repr.plot.width=7, repr.plot.height=3)\n",
    "par(mfrow = c(1,2))\n",
    "#plot(model_gs_quartz_no15)\n",
    "LOOcv_gs_quartz_no15= cv.lm(rocks[-15,], model_gs_quartz_no15, m =29, printit = FALSE, plotit = FALSE)\n",
    "RMSD_gs_quartz_no15<-func_RMSD(LOOcv_gs_quartz_no15)\n"
   ]
  },
  {
   "cell_type": "code",
   "execution_count": 340,
   "metadata": {
    "collapsed": false
   },
   "outputs": [
    {
     "data": {
      "image/png": "[encoded data removed]",
      "text/plain": [
       "Plot with title \"Predicted vs Actual\""
      ]
     },
     "metadata": {},
     "output_type": "display_data"
    }
   ],
   "source": [
    "options(repr.plot.width=3, repr.plot.height=3)\n",
    "plot(rocks[-15,]$UCS, LOOcv_gs_quartz_no15$cvpred, xlab = 'UCS', ylab = 'predicted', \n",
    "     main = 'Predicted vs Actual',\n",
    "     sub = \"gs + quartz\",\n",
    "    cex.lab = 0.5, cex.axis = 0.7)\n",
    "abline(a = 0, b= 1) # add reference line for predicted = actual"
   ]
  },
  {
   "cell_type": "code",
   "execution_count": 341,
   "metadata": {
    "collapsed": false
   },
   "outputs": [
    {
     "data": {
      "text/html": [
       "<table>\n",
       "<thead><tr><th></th><th scope=col>adj_r2</th><th scope=col>RSE</th><th scope=col>RMSD_all</th></tr></thead>\n",
       "<tbody>\n",
       "\t<tr><th scope=row>pca all</th><td>0.861</td><td>4.13 </td><td>4.37 </td></tr>\n",
       "\t<tr><th scope=row>pca no 15</th><td>0.900</td><td>3.57 </td><td>3.82 </td></tr>\n",
       "\t<tr><th scope=row>pca no 11</th><td>0.830</td><td>4.06 </td><td>4.27 </td></tr>\n",
       "\t<tr><th scope=row>pca no 11 and 15</th><td>0.878</td><td>3.50 </td><td>3.73 </td></tr>\n",
       "\t<tr><th scope=row>gs and quartz</th><td>0.836</td><td>4.57 </td><td>4.80 </td></tr>\n",
       "</tbody>\n",
       "</table>\n"
      ],
      "text/latex": [
       "\\begin{tabular}{r|lll}\n",
       "  & adj\\_r2 & RSE & RMSD\\_all\\\\\n",
       "\\hline\n",
       "\tpca all & 0.861 & 4.13  & 4.37 \\\\\n",
       "\tpca no 15 & 0.900 & 3.57  & 3.82 \\\\\n",
       "\tpca no 11 & 0.830 & 4.06  & 4.27 \\\\\n",
       "\tpca no 11 and 15 & 0.878 & 3.50  & 3.73 \\\\\n",
       "\tgs and quartz & 0.836 & 4.57  & 4.80 \\\\\n",
       "\\end{tabular}\n"
      ],
      "text/markdown": [
       "\n",
       "| <!--/--> | adj_r2 | RSE | RMSD_all | \n",
       "|---|---|---|---|---|\n",
       "| pca all | 0.861 | 4.13  | 4.37  | \n",
       "| pca no 15 | 0.900 | 3.57  | 3.82  | \n",
       "| pca no 11 | 0.830 | 4.06  | 4.27  | \n",
       "| pca no 11 and 15 | 0.878 | 3.50  | 3.73  | \n",
       "| gs and quartz | 0.836 | 4.57  | 4.80  | \n",
       "\n",
       "\n"
      ],
      "text/plain": [
       "                 adj_r2 RSE  RMSD_all\n",
       "pca all          0.861  4.13 4.37    \n",
       "pca no 15        0.900  3.57 3.82    \n",
       "pca no 11        0.830  4.06 4.27    \n",
       "pca no 11 and 15 0.878  3.50 3.73    \n",
       "gs and quartz    0.836  4.57 4.80    "
      ]
     },
     "metadata": {},
     "output_type": "display_data"
    }
   ],
   "source": [
    "#add the paramters for the gs + quartz' model to the model comparison data frame\n",
    "gs_quartz <- c(summary(model_gs_quartz_no15)$r.squared, summary(model_gs_quartz_no15)$sigma, RMSD_gs_quartz_no15 )\n",
    "model_comparison <- rbind(model_comparison, gs_quartz)\n",
    "rownames(model_comparison)[5] <- \"gs and quartz\"\n",
    "model_comparison"
   ]
  },
  {
   "cell_type": "markdown",
   "metadata": {},
   "source": [
    "The performance of the PC1 + PC3 model is better but depending on how the model is intended on being used, it may be preferrable to chose the model based on 'gs' and 'quartz' to improve understandability."
   ]
  },
  {
   "cell_type": "code",
   "execution_count": null,
   "metadata": {
    "collapsed": true
   },
   "outputs": [],
   "source": []
  }
 ],
 "metadata": {
  "kernelspec": {
   "display_name": "R",
   "language": "R",
   "name": "ir"
  },
  "language_info": {
   "codemirror_mode": "r",
   "file_extension": ".r",
   "mimetype": "text/x-r-source",
   "name": "R",
   "pygments_lexer": "r",
   "version": "3.3.3"
  }
 },
 "nbformat": 4,
 "nbformat_minor": 2
}
