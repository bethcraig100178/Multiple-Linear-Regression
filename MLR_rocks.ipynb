{
 "cells": [
  {
   "cell_type": "markdown",
   "metadata": {},
   "source": [
    "# Multiple Linear Regression\n",
    "\n",
    "## A model to predict the uniaxial compressive strength (UCS) of rocks from their mineral and geometric properties\n",
    "\n",
    "This was a continuous assessment requirement for my final module. The task was to select a dataset and perform multiple linear regression analysis using R. \n",
    "\n",
    "The data was taken from [here.](http://users.stat.ufl.edu/~winner/datasets.html)\n",
    "\n",
    "As well as the dependent variable **UCS**, 8 potential predictor variables are available:\n",
    "\n",
    "4 mineral properties: %Quartz (**quartz**), %Plagaoclase (**plag**), %K.feldspar (**kfds**), %Hornblende (**hb**)\n",
    "\n",
    "4 geometric properties: Grain size (mm) (**gs**), Grain area (mm^2) (**ga**), Aspect Ratio (**ar**) and Shape Factor (**sf**) \n"
   ]
  },
  {
   "cell_type": "markdown",
   "metadata": {},
   "source": [
    "## Load and Activate R\n",
    "\n",
    "The first step was to load and activate the IRKernel which I did following [this tutorial.](https://www.datacamp.com/community/blog/jupyter-notebook-r#gs.z0gxLNc)"
   ]
  },
  {
   "cell_type": "markdown",
   "metadata": {},
   "source": [
    "## Import the data and start exploring"
   ]
  },
  {
   "cell_type": "code",
   "execution_count": 1,
   "metadata": {
    "collapsed": false
   },
   "outputs": [
    {
     "data": {
      "text/html": [
       "<table>\n",
       "<thead><tr><th scope=col>sample_id</th><th scope=col>UCS</th><th scope=col>quartz</th><th scope=col>plag</th><th scope=col>kfds</th><th scope=col>hb</th><th scope=col>gs</th><th scope=col>ga</th><th scope=col>sf</th><th scope=col>ar</th></tr></thead>\n",
       "<tbody>\n",
       "\t<tr><td>1     </td><td>100.6 </td><td>40.3  </td><td>9.98  </td><td>17.01 </td><td>21.57 </td><td>0.031 </td><td> 754.4</td><td>0.594 </td><td>0.630 </td></tr>\n",
       "\t<tr><td>2     </td><td>112.0 </td><td>47.1  </td><td>8.50  </td><td>15.00 </td><td>23.00 </td><td>0.025 </td><td> 490.6</td><td>0.612 </td><td>0.612 </td></tr>\n",
       "\t<tr><td>3     </td><td>117.5 </td><td>45.4  </td><td>9.10  </td><td>16.20 </td><td>24.00 </td><td>0.022 </td><td> 379.9</td><td>0.628 </td><td>0.628 </td></tr>\n",
       "\t<tr><td>4     </td><td>100.9 </td><td>41.3  </td><td>7.72  </td><td>11.02 </td><td>18.86 </td><td>0.044 </td><td>1519.8</td><td>0.571 </td><td>0.667 </td></tr>\n",
       "\t<tr><td>5     </td><td> 94.5 </td><td>33.8  </td><td>4.10  </td><td>14.00 </td><td>16.00 </td><td>0.043 </td><td>1451.5</td><td>0.575 </td><td>0.662 </td></tr>\n",
       "\t<tr><td>6     </td><td> 91.5 </td><td>37.2  </td><td>7.40  </td><td>12.00 </td><td>13.00 </td><td>0.046 </td><td>1661.1</td><td>0.499 </td><td>0.663 </td></tr>\n",
       "</tbody>\n",
       "</table>\n"
      ],
      "text/latex": [
       "\\begin{tabular}{r|llllllllll}\n",
       " sample\\_id & UCS & quartz & plag & kfds & hb & gs & ga & sf & ar\\\\\n",
       "\\hline\n",
       "\t 1      & 100.6  & 40.3   & 9.98   & 17.01  & 21.57  & 0.031  &  754.4 & 0.594  & 0.630 \\\\\n",
       "\t 2      & 112.0  & 47.1   & 8.50   & 15.00  & 23.00  & 0.025  &  490.6 & 0.612  & 0.612 \\\\\n",
       "\t 3      & 117.5  & 45.4   & 9.10   & 16.20  & 24.00  & 0.022  &  379.9 & 0.628  & 0.628 \\\\\n",
       "\t 4      & 100.9  & 41.3   & 7.72   & 11.02  & 18.86  & 0.044  & 1519.8 & 0.571  & 0.667 \\\\\n",
       "\t 5      &  94.5  & 33.8   & 4.10   & 14.00  & 16.00  & 0.043  & 1451.5 & 0.575  & 0.662 \\\\\n",
       "\t 6      &  91.5  & 37.2   & 7.40   & 12.00  & 13.00  & 0.046  & 1661.1 & 0.499  & 0.663 \\\\\n",
       "\\end{tabular}\n"
      ],
      "text/markdown": [
       "\n",
       "sample_id | UCS | quartz | plag | kfds | hb | gs | ga | sf | ar | \n",
       "|---|---|---|---|---|---|\n",
       "| 1      | 100.6  | 40.3   | 9.98   | 17.01  | 21.57  | 0.031  |  754.4 | 0.594  | 0.630  | \n",
       "| 2      | 112.0  | 47.1   | 8.50   | 15.00  | 23.00  | 0.025  |  490.6 | 0.612  | 0.612  | \n",
       "| 3      | 117.5  | 45.4   | 9.10   | 16.20  | 24.00  | 0.022  |  379.9 | 0.628  | 0.628  | \n",
       "| 4      | 100.9  | 41.3   | 7.72   | 11.02  | 18.86  | 0.044  | 1519.8 | 0.571  | 0.667  | \n",
       "| 5      |  94.5  | 33.8   | 4.10   | 14.00  | 16.00  | 0.043  | 1451.5 | 0.575  | 0.662  | \n",
       "| 6      |  91.5  | 37.2   | 7.40   | 12.00  | 13.00  | 0.046  | 1661.1 | 0.499  | 0.663  | \n",
       "\n",
       "\n"
      ],
      "text/plain": [
       "  sample_id UCS   quartz plag kfds  hb    gs    ga     sf    ar   \n",
       "1 1         100.6 40.3   9.98 17.01 21.57 0.031  754.4 0.594 0.630\n",
       "2 2         112.0 47.1   8.50 15.00 23.00 0.025  490.6 0.612 0.612\n",
       "3 3         117.5 45.4   9.10 16.20 24.00 0.022  379.9 0.628 0.628\n",
       "4 4         100.9 41.3   7.72 11.02 18.86 0.044 1519.8 0.571 0.667\n",
       "5 5          94.5 33.8   4.10 14.00 16.00 0.043 1451.5 0.575 0.662\n",
       "6 6          91.5 37.2   7.40 12.00 13.00 0.046 1661.1 0.499 0.663"
      ]
     },
     "metadata": {},
     "output_type": "display_data"
    }
   ],
   "source": [
    "#import the data and take a look\n",
    "link <- 'http://users.stat.ufl.edu/~winner/data/rockstrength.csv'\n",
    "rocks <- read.csv(link)\n",
    "head(rocks)"
   ]
  },
  {
   "cell_type": "markdown",
   "metadata": {},
   "source": [
    "I'm going to get rid of the id column straight away as it is not necessary in R "
   ]
  },
  {
   "cell_type": "code",
   "execution_count": 2,
   "metadata": {
    "collapsed": false
   },
   "outputs": [],
   "source": [
    "rocks <- rocks[2:10] "
   ]
  },
  {
   "cell_type": "markdown",
   "metadata": {},
   "source": [
    "Check the data types (which are probably all numerical, but need to make sure)"
   ]
  },
  {
   "cell_type": "code",
   "execution_count": 3,
   "metadata": {
    "collapsed": false
   },
   "outputs": [
    {
     "name": "stdout",
     "output_type": "stream",
     "text": [
      "'data.frame':\t30 obs. of  9 variables:\n",
      " $ UCS   : num  100.6 112 117.5 100.9 94.5 ...\n",
      " $ quartz: num  40.3 47.1 45.4 41.3 33.8 37.2 40 39.1 44.2 35.1 ...\n",
      " $ plag  : num  9.98 8.5 9.1 7.72 4.1 7.4 5.44 5.1 5 5.51 ...\n",
      " $ kfds  : num  17 15 16.2 11 14 ...\n",
      " $ hb    : num  21.6 23 24 18.9 16 ...\n",
      " $ gs    : num  0.031 0.025 0.022 0.044 0.043 0.046 0.035 0.032 0.032 0.056 ...\n",
      " $ ga    : num  754 491 380 1520 1452 ...\n",
      " $ sf    : num  0.594 0.612 0.628 0.571 0.575 0.499 0.606 0.585 0.615 0.572 ...\n",
      " $ ar    : num  0.63 0.612 0.628 0.667 0.662 0.663 0.685 0.683 0.68 0.639 ...\n"
     ]
    }
   ],
   "source": [
    "str(rocks)"
   ]
  },
  {
   "cell_type": "markdown",
   "metadata": {},
   "source": [
    "All numerical, but very different scales...\n",
    "\n",
    "Next up - the dependent variable **UCS**. Is it normally distributed?"
   ]
  },
  {
   "cell_type": "code",
   "execution_count": 4,
   "metadata": {
    "collapsed": false
   },
   "outputs": [
    {
     "data": {
      "text/plain": [
       "\n",
       "\tShapiro-Wilk normality test\n",
       "\n",
       "data:  rocks$UCS\n",
       "W = 0.96383, p-value = 0.3865\n"
      ]
     },
     "metadata": {},
     "output_type": "display_data"
    },
    {
     "data": {
      "image/png": "[encoded data removed]",
      "text/plain": [
       "Plot with title \"QQ-Plot for UCS\""
      ]
     },
     "metadata": {},
     "output_type": "display_data"
    }
   ],
   "source": [
    "library(repr)\n",
    "#create QQ-plot\n",
    "options(repr.plot.width=3, repr.plot.height=3) #recale the plot to a reasonable size\n",
    "qqnorm(rocks$UCS, main = 'QQ-Plot for UCS')\n",
    "qqline(rocks$UCS)\n",
    "#Shapiro Wilk test for normality\n",
    "shapiro.test(rocks$UCS)"
   ]
  },
  {
   "cell_type": "markdown",
   "metadata": {},
   "source": [
    "Since the QQ-plot is roughly a straight and the p-value from the Shapiro-Wilk test is > 0.05, there is no reason to query the assumption of a normally distributed dependent variable. \n",
    "\n",
    "The plot produced by the notebook was really big though, so I rescaled using the 'repr' package"
   ]
  },
  {
   "cell_type": "markdown",
   "metadata": {},
   "source": [
    "Next I want to check the relationships between the dependent variable and the predictors and also the relationships between the predictors. "
   ]
  },
  {
   "cell_type": "code",
   "execution_count": 5,
   "metadata": {
    "collapsed": false
   },
   "outputs": [
    {
     "data": {
      "text/html": [
       "<table>\n",
       "<thead><tr><th></th><th scope=col>UCS</th><th scope=col>quartz</th><th scope=col>plag</th><th scope=col>kfds</th><th scope=col>hb</th><th scope=col>gs</th><th scope=col>ga</th><th scope=col>sf</th><th scope=col>ar</th></tr></thead>\n",
       "<tbody>\n",
       "\t<tr><th scope=row>UCS</th><td> 1.0000000 </td><td> 0.5195585 </td><td> 0.32325270</td><td> 0.26713240</td><td> 0.6935996 </td><td>-0.8535317 </td><td>-0.85372147</td><td> 0.74538704</td><td>-0.13062614</td></tr>\n",
       "\t<tr><th scope=row>quartz</th><td> 0.5195585 </td><td> 1.0000000 </td><td> 0.36705123</td><td>-0.13824760</td><td> 0.1819355 </td><td>-0.3401121 </td><td>-0.40473186</td><td> 0.21712915</td><td>-0.17961144</td></tr>\n",
       "\t<tr><th scope=row>plag</th><td> 0.3232527 </td><td> 0.3670512 </td><td> 1.00000000</td><td> 0.02991282</td><td> 0.1442950 </td><td>-0.1297172 </td><td>-0.17070271</td><td> 0.25010445</td><td>-0.64964150</td></tr>\n",
       "\t<tr><th scope=row>kfds</th><td> 0.2671324 </td><td>-0.1382476 </td><td> 0.02991282</td><td> 1.00000000</td><td> 0.6276819 </td><td>-0.4542640 </td><td>-0.40736454</td><td> 0.09318555</td><td>-0.32693655</td></tr>\n",
       "\t<tr><th scope=row>hb</th><td> 0.6935996 </td><td> 0.1819355 </td><td> 0.14429504</td><td> 0.62768189</td><td> 1.0000000 </td><td>-0.7200409 </td><td>-0.66416976</td><td> 0.50528929</td><td>-0.22915931</td></tr>\n",
       "\t<tr><th scope=row>gs</th><td>-0.8535317 </td><td>-0.3401121 </td><td>-0.12971719</td><td>-0.45426399</td><td>-0.7200409 </td><td> 1.0000000 </td><td> 0.98452402</td><td>-0.66769947</td><td> 0.08985670</td></tr>\n",
       "\t<tr><th scope=row>ga</th><td>-0.8537215 </td><td>-0.4047319 </td><td>-0.17070271</td><td>-0.40736454</td><td>-0.6641698 </td><td> 0.9845240 </td><td> 1.00000000</td><td>-0.64752309</td><td> 0.09327277</td></tr>\n",
       "\t<tr><th scope=row>sf</th><td> 0.7453870 </td><td> 0.2171291 </td><td> 0.25010445</td><td> 0.09318555</td><td> 0.5052893 </td><td>-0.6676995 </td><td>-0.64752309</td><td> 1.00000000</td><td>-0.09531308</td></tr>\n",
       "\t<tr><th scope=row>ar</th><td>-0.1306261 </td><td>-0.1796114 </td><td>-0.64964150</td><td>-0.32693655</td><td>-0.2291593 </td><td> 0.0898567 </td><td> 0.09327277</td><td>-0.09531308</td><td> 1.00000000</td></tr>\n",
       "</tbody>\n",
       "</table>\n"
      ],
      "text/latex": [
       "\\begin{tabular}{r|lllllllll}\n",
       "  & UCS & quartz & plag & kfds & hb & gs & ga & sf & ar\\\\\n",
       "\\hline\n",
       "\tUCS &  1.0000000  &  0.5195585  &  0.32325270 &  0.26713240 &  0.6935996  & -0.8535317  & -0.85372147 &  0.74538704 & -0.13062614\\\\\n",
       "\tquartz &  0.5195585  &  1.0000000  &  0.36705123 & -0.13824760 &  0.1819355  & -0.3401121  & -0.40473186 &  0.21712915 & -0.17961144\\\\\n",
       "\tplag &  0.3232527  &  0.3670512  &  1.00000000 &  0.02991282 &  0.1442950  & -0.1297172  & -0.17070271 &  0.25010445 & -0.64964150\\\\\n",
       "\tkfds &  0.2671324  & -0.1382476  &  0.02991282 &  1.00000000 &  0.6276819  & -0.4542640  & -0.40736454 &  0.09318555 & -0.32693655\\\\\n",
       "\thb &  0.6935996  &  0.1819355  &  0.14429504 &  0.62768189 &  1.0000000  & -0.7200409  & -0.66416976 &  0.50528929 & -0.22915931\\\\\n",
       "\tgs & -0.8535317  & -0.3401121  & -0.12971719 & -0.45426399 & -0.7200409  &  1.0000000  &  0.98452402 & -0.66769947 &  0.08985670\\\\\n",
       "\tga & -0.8537215  & -0.4047319  & -0.17070271 & -0.40736454 & -0.6641698  &  0.9845240  &  1.00000000 & -0.64752309 &  0.09327277\\\\\n",
       "\tsf &  0.7453870  &  0.2171291  &  0.25010445 &  0.09318555 &  0.5052893  & -0.6676995  & -0.64752309 &  1.00000000 & -0.09531308\\\\\n",
       "\tar & -0.1306261  & -0.1796114  & -0.64964150 & -0.32693655 & -0.2291593  &  0.0898567  &  0.09327277 & -0.09531308 &  1.00000000\\\\\n",
       "\\end{tabular}\n"
      ],
      "text/markdown": [
       "\n",
       "| <!--/--> | UCS | quartz | plag | kfds | hb | gs | ga | sf | ar | \n",
       "|---|---|---|---|---|---|---|---|---|\n",
       "| UCS |  1.0000000  |  0.5195585  |  0.32325270 |  0.26713240 |  0.6935996  | -0.8535317  | -0.85372147 |  0.74538704 | -0.13062614 | \n",
       "| quartz |  0.5195585  |  1.0000000  |  0.36705123 | -0.13824760 |  0.1819355  | -0.3401121  | -0.40473186 |  0.21712915 | -0.17961144 | \n",
       "| plag |  0.3232527  |  0.3670512  |  1.00000000 |  0.02991282 |  0.1442950  | -0.1297172  | -0.17070271 |  0.25010445 | -0.64964150 | \n",
       "| kfds |  0.2671324  | -0.1382476  |  0.02991282 |  1.00000000 |  0.6276819  | -0.4542640  | -0.40736454 |  0.09318555 | -0.32693655 | \n",
       "| hb |  0.6935996  |  0.1819355  |  0.14429504 |  0.62768189 |  1.0000000  | -0.7200409  | -0.66416976 |  0.50528929 | -0.22915931 | \n",
       "| gs | -0.8535317  | -0.3401121  | -0.12971719 | -0.45426399 | -0.7200409  |  1.0000000  |  0.98452402 | -0.66769947 |  0.08985670 | \n",
       "| ga | -0.8537215  | -0.4047319  | -0.17070271 | -0.40736454 | -0.6641698  |  0.9845240  |  1.00000000 | -0.64752309 |  0.09327277 | \n",
       "| sf |  0.7453870  |  0.2171291  |  0.25010445 |  0.09318555 |  0.5052893  | -0.6676995  | -0.64752309 |  1.00000000 | -0.09531308 | \n",
       "| ar | -0.1306261  | -0.1796114  | -0.64964150 | -0.32693655 | -0.2291593  |  0.0898567  |  0.09327277 | -0.09531308 |  1.00000000 | \n",
       "\n",
       "\n"
      ],
      "text/plain": [
       "       UCS        quartz     plag        kfds        hb         gs        \n",
       "UCS     1.0000000  0.5195585  0.32325270  0.26713240  0.6935996 -0.8535317\n",
       "quartz  0.5195585  1.0000000  0.36705123 -0.13824760  0.1819355 -0.3401121\n",
       "plag    0.3232527  0.3670512  1.00000000  0.02991282  0.1442950 -0.1297172\n",
       "kfds    0.2671324 -0.1382476  0.02991282  1.00000000  0.6276819 -0.4542640\n",
       "hb      0.6935996  0.1819355  0.14429504  0.62768189  1.0000000 -0.7200409\n",
       "gs     -0.8535317 -0.3401121 -0.12971719 -0.45426399 -0.7200409  1.0000000\n",
       "ga     -0.8537215 -0.4047319 -0.17070271 -0.40736454 -0.6641698  0.9845240\n",
       "sf      0.7453870  0.2171291  0.25010445  0.09318555  0.5052893 -0.6676995\n",
       "ar     -0.1306261 -0.1796114 -0.64964150 -0.32693655 -0.2291593  0.0898567\n",
       "       ga          sf          ar         \n",
       "UCS    -0.85372147  0.74538704 -0.13062614\n",
       "quartz -0.40473186  0.21712915 -0.17961144\n",
       "plag   -0.17070271  0.25010445 -0.64964150\n",
       "kfds   -0.40736454  0.09318555 -0.32693655\n",
       "hb     -0.66416976  0.50528929 -0.22915931\n",
       "gs      0.98452402 -0.66769947  0.08985670\n",
       "ga      1.00000000 -0.64752309  0.09327277\n",
       "sf     -0.64752309  1.00000000 -0.09531308\n",
       "ar      0.09327277 -0.09531308  1.00000000"
      ]
     },
     "metadata": {},
     "output_type": "display_data"
    }
   ],
   "source": [
    "cor(rocks)"
   ]
  },
  {
   "cell_type": "code",
   "execution_count": 6,
   "metadata": {
    "collapsed": false
   },
   "outputs": [
    {
     "data": {
      "image/png": "[encoded data removed]",
      "text/plain": [
       "plot without title"
      ]
     },
     "metadata": {},
     "output_type": "display_data"
    }
   ],
   "source": [
    "options(repr.plot.width=5, repr.plot.height=5)\n",
    "pairs(rocks)"
   ]
  },
  {
   "cell_type": "markdown",
   "metadata": {},
   "source": [
    "The most striking observation is that two of the variables **gs** and **ga** are very highly correlated with each other (cor > 0.98). \n",
    "\n",
    "**gs** is grain size and **ga** is grain area. Since they are closely related attributes and so highly correlated, I am just going to get rid of one of them  -  **ga**. "
   ]
  },
  {
   "cell_type": "code",
   "execution_count": 7,
   "metadata": {
    "collapsed": false
   },
   "outputs": [],
   "source": [
    "rocks <- rocks[-7]"
   ]
  },
  {
   "cell_type": "markdown",
   "metadata": {},
   "source": [
    "And re-run the pairs() function to take another look"
   ]
  },
  {
   "cell_type": "code",
   "execution_count": 8,
   "metadata": {
    "collapsed": false,
    "scrolled": true
   },
   "outputs": [
    {
     "data": {
      "image/png": "[encoded data removed]",
      "text/plain": [
       "plot without title"
      ]
     },
     "metadata": {},
     "output_type": "display_data"
    }
   ],
   "source": [
    "options(repr.plot.width=5, repr.plot.height=5)\n",
    "pairs(rocks)"
   ]
  },
  {
   "cell_type": "markdown",
   "metadata": {},
   "source": [
    "Lots of promising correlation between **UCS** and the predictors, particularly **quartz**, **hb**, **gs** and **sf**. But also lots of correlation between the predictors themselves, which means PCA is a good next step."
   ]
  },
  {
   "cell_type": "markdown",
   "metadata": {},
   "source": [
    "## PCA"
   ]
  },
  {
   "cell_type": "code",
   "execution_count": 9,
   "metadata": {
    "collapsed": false,
    "scrolled": true
   },
   "outputs": [
    {
     "data": {
      "text/plain": [
       "Importance of components:\n",
       "                          PC1    PC2    PC3     PC4     PC5     PC6     PC7\n",
       "Standard deviation     1.6949 1.2490 1.1135 0.81721 0.51671 0.48686 0.39445\n",
       "Proportion of Variance 0.4104 0.2229 0.1771 0.09541 0.03814 0.03386 0.02223\n",
       "Cumulative Proportion  0.4104 0.6332 0.8104 0.90577 0.94391 0.97777 1.00000"
      ]
     },
     "metadata": {},
     "output_type": "display_data"
    }
   ],
   "source": [
    "rocks_scaled <- as.data.frame(scale(rocks[2:8])) #normalize so all predictor variables are on the same scale\n",
    "rocks.pca <- prcomp(rocks_scaled) # run pca\n",
    "summary(rocks.pca) #ouptut from pca"
   ]
  },
  {
   "cell_type": "code",
   "execution_count": 10,
   "metadata": {
    "collapsed": false
   },
   "outputs": [
    {
     "data": {
      "image/png": "[encoded data removed]",
      "text/plain": [
       "Plot with title \"Scree Plot for PCA\""
      ]
     },
     "metadata": {},
     "output_type": "display_data"
    }
   ],
   "source": [
    "#Produce a scree plot\n",
    "options(repr.plot.width=4, repr.plot.height=4)\n",
    "screeplot(rocks.pca, type=\"lines\", main = 'Scree Plot for PCA')"
   ]
  },
  {
   "cell_type": "markdown",
   "metadata": {},
   "source": [
    "From the PCA output, the first 3 components account for over 80% of the variation in the dataset and each account for the \n",
    "variance of > 1 variable (scree plot) so I will add them to the rocks data frame and attempt some models.\n",
    "\n",
    "With PCA, it's a good idea to understand which variables are contributing to each PCA element and to what extend using a biplot."
   ]
  },
  {
   "cell_type": "code",
   "execution_count": 31,
   "metadata": {
    "collapsed": false,
    "scrolled": true
   },
   "outputs": [
    {
     "data": {
      "image/png": "[encoded data removed]",
      "text/plain": [
       "plot without title"
      ]
     },
     "metadata": {},
     "output_type": "display_data"
    }
   ],
   "source": [
    "options(repr.plot.width=4, repr.plot.height=4)\n",
    "biplot(rocks.pca)"
   ]
  },
  {
   "cell_type": "markdown",
   "metadata": {},
   "source": [
    "The biplot only tells us about **PC1** and **PC2** (ie not **PC3**).\n",
    "A high **PC1** score can be interpreted as a high **gs** value and a low **sf**, **hb** and **kfds** score and vice versa.\n",
    "A high **PC2** is associated with a high **plag** and **quartz** and a low **ar**. \n",
    "\n",
    "Reviewing this information relative to the correlation matrix above, it suggests **PC2** may not be great for predicting **UCS** since **plag** and **ar** are not strongly correlated with **UCS**.\n",
    "\n"
   ]
  },
  {
   "cell_type": "code",
   "execution_count": 12,
   "metadata": {
    "collapsed": false
   },
   "outputs": [
    {
     "data": {
      "text/html": [
       "<table>\n",
       "<thead><tr><th></th><th scope=col>UCS</th><th scope=col>quartz</th><th scope=col>ar</th><th scope=col>plag</th></tr></thead>\n",
       "<tbody>\n",
       "\t<tr><th scope=row>UCS</th><td> 1.0000000</td><td> 0.5195585</td><td>-0.1306261</td><td> 0.3232527</td></tr>\n",
       "\t<tr><th scope=row>quartz</th><td> 0.5195585</td><td> 1.0000000</td><td>-0.1796114</td><td> 0.3670512</td></tr>\n",
       "\t<tr><th scope=row>ar</th><td>-0.1306261</td><td>-0.1796114</td><td> 1.0000000</td><td>-0.6496415</td></tr>\n",
       "\t<tr><th scope=row>plag</th><td> 0.3232527</td><td> 0.3670512</td><td>-0.6496415</td><td> 1.0000000</td></tr>\n",
       "</tbody>\n",
       "</table>\n"
      ],
      "text/latex": [
       "\\begin{tabular}{r|llll}\n",
       "  & UCS & quartz & ar & plag\\\\\n",
       "\\hline\n",
       "\tUCS &  1.0000000 &  0.5195585 & -0.1306261 &  0.3232527\\\\\n",
       "\tquartz &  0.5195585 &  1.0000000 & -0.1796114 &  0.3670512\\\\\n",
       "\tar & -0.1306261 & -0.1796114 &  1.0000000 & -0.6496415\\\\\n",
       "\tplag &  0.3232527 &  0.3670512 & -0.6496415 &  1.0000000\\\\\n",
       "\\end{tabular}\n"
      ],
      "text/markdown": [
       "\n",
       "| <!--/--> | UCS | quartz | ar | plag | \n",
       "|---|---|---|---|\n",
       "| UCS |  1.0000000 |  0.5195585 | -0.1306261 |  0.3232527 | \n",
       "| quartz |  0.5195585 |  1.0000000 | -0.1796114 |  0.3670512 | \n",
       "| ar | -0.1306261 | -0.1796114 |  1.0000000 | -0.6496415 | \n",
       "| plag |  0.3232527 |  0.3670512 | -0.6496415 |  1.0000000 | \n",
       "\n",
       "\n"
      ],
      "text/plain": [
       "       UCS        quartz     ar         plag      \n",
       "UCS     1.0000000  0.5195585 -0.1306261  0.3232527\n",
       "quartz  0.5195585  1.0000000 -0.1796114  0.3670512\n",
       "ar     -0.1306261 -0.1796114  1.0000000 -0.6496415\n",
       "plag    0.3232527  0.3670512 -0.6496415  1.0000000"
      ]
     },
     "metadata": {},
     "output_type": "display_data"
    }
   ],
   "source": [
    "cor(rocks[c(\"UCS\", \"quartz\", \"ar\", \"plag\")])"
   ]
  },
  {
   "cell_type": "code",
   "execution_count": 13,
   "metadata": {
    "collapsed": false
   },
   "outputs": [],
   "source": [
    "#add PC1, 2 and 3 to the data.frame\n",
    "rocks_with_PCA <- data.frame(rocks, rocks.pca$x[,1:3])"
   ]
  },
  {
   "cell_type": "markdown",
   "metadata": {},
   "source": [
    "# Building Models"
   ]
  },
  {
   "cell_type": "markdown",
   "metadata": {},
   "source": [
    "First, just try the 3 PCA variables"
   ]
  },
  {
   "cell_type": "code",
   "execution_count": 14,
   "metadata": {
    "collapsed": false
   },
   "outputs": [
    {
     "data": {
      "text/plain": [
       "\n",
       "Call:\n",
       "lm(formula = UCS ~ PC1 + PC2 + PC3, data = rocks_with_PCA)\n",
       "\n",
       "Residuals:\n",
       "    Min      1Q  Median      3Q     Max \n",
       "-12.452  -2.195   0.995   2.071   6.960 \n",
       "\n",
       "Coefficients:\n",
       "            Estimate Std. Error t value Pr(>|t|)    \n",
       "(Intercept) 105.5767     0.7475 141.231  < 2e-16 ***\n",
       "PC1          -5.2851     0.4486 -11.781 6.30e-12 ***\n",
       "PC2          -0.7350     0.6087  -1.207    0.238    \n",
       "PC3           3.8201     0.6828   5.594 7.05e-06 ***\n",
       "---\n",
       "Signif. codes:  0 '***' 0.001 '**' 0.01 '*' 0.05 '.' 0.1 ' ' 1\n",
       "\n",
       "Residual standard error: 4.094 on 26 degrees of freedom\n",
       "Multiple R-squared:  0.8684,\tAdjusted R-squared:  0.8532 \n",
       "F-statistic: 57.18 on 3 and 26 DF,  p-value: 1.394e-11\n"
      ]
     },
     "metadata": {},
     "output_type": "display_data"
    }
   ],
   "source": [
    "#just try everything model\n",
    "model <- lm(UCS ~ PC1 + PC2 + PC3, data = rocks_with_PCA)\n",
    "summary(model)"
   ]
  },
  {
   "cell_type": "markdown",
   "metadata": {},
   "source": [
    "Unsurprisingly, the coefficient for **PC2** is not statistically significant, so I'm going to remove it and re-run the model with just **PC1** and **PC3**"
   ]
  },
  {
   "cell_type": "code",
   "execution_count": 15,
   "metadata": {
    "collapsed": false
   },
   "outputs": [
    {
     "data": {
      "text/plain": [
       "\n",
       "Call:\n",
       "lm(formula = UCS ~ PC1 + PC3, data = rocks_with_PCA)\n",
       "\n",
       "Residuals:\n",
       "     Min       1Q   Median       3Q      Max \n",
       "-10.9867  -2.6093   0.7471   2.1251   7.5822 \n",
       "\n",
       "Coefficients:\n",
       "            Estimate Std. Error t value Pr(>|t|)    \n",
       "(Intercept) 105.5767     0.7539 140.049  < 2e-16 ***\n",
       "PC1          -5.2851     0.4524 -11.683 4.57e-12 ***\n",
       "PC3           3.8201     0.6886   5.548 7.02e-06 ***\n",
       "---\n",
       "Signif. codes:  0 '***' 0.001 '**' 0.01 '*' 0.05 '.' 0.1 ' ' 1\n",
       "\n",
       "Residual standard error: 4.129 on 27 degrees of freedom\n",
       "Multiple R-squared:  0.861,\tAdjusted R-squared:  0.8507 \n",
       "F-statistic: 83.63 on 2 and 27 DF,  p-value: 2.694e-12\n"
      ]
     },
     "metadata": {},
     "output_type": "display_data"
    }
   ],
   "source": [
    "model <- lm(UCS ~ PC1 + PC3, data = rocks_with_PCA)\n",
    "summary(model)"
   ]
  },
  {
   "cell_type": "markdown",
   "metadata": {},
   "source": [
    "Using just **PC1** and **PC3** gives a decent model that accounts for 85% of the variation. \n",
    "Definitely worth checking out the diagnostic plots and cross-validating.\n"
   ]
  },
  {
   "cell_type": "markdown",
   "metadata": {},
   "source": [
    "### Diagnostic Plots for PC1 + PC3 model"
   ]
  },
  {
   "cell_type": "code",
   "execution_count": 16,
   "metadata": {
    "collapsed": false
   },
   "outputs": [
    {
     "data": {
      "image/png": "[encoded data removed]",
      "text/plain": [
       "Plot with title \"\""
      ]
     },
     "metadata": {},
     "output_type": "display_data"
    }
   ],
   "source": [
    "options(repr.plot.width=5, repr.plot.height=5)\n",
    "par(mfrow = c(2,2))\n",
    "plot(model)"
   ]
  },
  {
   "cell_type": "markdown",
   "metadata": {},
   "source": [
    "Not too bad but two things strike me (i) Observation 11 has a relatively high Cook's distance compared to the other points and approaching 0.5\n",
    "(ii) Observation 15 is out of trend, not massively but worth checking out it's effect on the model"
   ]
  },
  {
   "cell_type": "markdown",
   "metadata": {},
   "source": [
    "### Cross validation for model PC1 + PC3\n",
    "\n",
    "Since there are only 30 observations, I'm going to try the 'leave one out' approach to cross validation\n",
    "and calculate the RMSD (root mean squared deviation) from the output."
   ]
  },
  {
   "cell_type": "markdown",
   "metadata": {},
   "source": [
    "**Note:** I came across a bug in the DAAG package for the cv.lm function when both *printit* and *plotit* are set to false. I found [a fix](https://stackoverflow.com/questions/40700867/cvlm-daag-setting-printit-false-causes-an-issue-object-sumss-not-found) but to get the following code to work you may need to either (i) force an update of the DAAG package or (ii) set either *printit* or *plotit* to TRUE in the *cv.lm* code"
   ]
  },
  {
   "cell_type": "code",
   "execution_count": 17,
   "metadata": {
    "collapsed": false,
    "scrolled": true
   },
   "outputs": [
    {
     "name": "stdout",
     "output_type": "stream",
     "text": [
      "[1] \"RMSD is 4.3739\"\n"
     ]
    }
   ],
   "source": [
    "library(lattice)\n",
    "library(DAAG)\n",
    "LOOcv_PC1_PC3= cv.lm(rocks_with_PCA, model, m =30, printit = FALSE, plotit = FALSE)\n",
    "RMSD_PC1_PC3<-sqrt(mean((LOOcv_PC1_PC3$cvpred-LOOcv_PC1_PC3$UCS)^2))\n",
    "print (paste(\"RMSD is\",round(RMSD_PC1_PC3, 4)))"
   ]
  },
  {
   "cell_type": "markdown",
   "metadata": {
    "collapsed": true
   },
   "source": [
    "To assess the influence/impact of Observations (Obs) 11 and 15 on the model, I am going to re-run it with (i) just Obs 11 removed (ii) just Obs 15 removed and (iii) both Obs 11 and 15 removed. Since this is very repetitive, I have commented out code for the model summaries and diagnostic plots. If you would like to examine the output, just remove the #. "
   ]
  },
  {
   "cell_type": "markdown",
   "metadata": {},
   "source": [
    "Since I'm going to repeat the RMSD calculation a few times, I'm going to put it into a function"
   ]
  },
  {
   "cell_type": "code",
   "execution_count": 18,
   "metadata": {
    "collapsed": false
   },
   "outputs": [],
   "source": [
    "func_RMSD <- function(cv_output){\n",
    "   rmsd <- sqrt(mean((cv_output$cvpred - cv_output$UCS)^2)) #hardwired with UCS as function is only for use in this notebook\n",
    "    return (rmsd)\n",
    "}"
   ]
  },
  {
   "cell_type": "markdown",
   "metadata": {},
   "source": [
    "#### Obs 11 removed"
   ]
  },
  {
   "cell_type": "code",
   "execution_count": 19,
   "metadata": {
    "collapsed": false
   },
   "outputs": [],
   "source": [
    "model_no11 <- lm(UCS ~ PC1 + PC3, data = rocks_with_PCA[-11,])\n",
    "#summary(model_no11)\n",
    "#par(mfrow = c(2,2))\n",
    "#plot(model_no11)\n",
    "LOOcv_PC1_PC3_no11 <- cv.lm(rocks_with_PCA[-11,] , model_no11, m =29, printit = FALSE, plotit = FALSE)\n",
    "RMSD_no11 <- func_RMSD(LOOcv_PC1_PC3_no11)\n",
    "\n"
   ]
  },
  {
   "cell_type": "markdown",
   "metadata": {},
   "source": [
    "#### Obs 15 removed"
   ]
  },
  {
   "cell_type": "code",
   "execution_count": 20,
   "metadata": {
    "collapsed": false,
    "scrolled": false
   },
   "outputs": [],
   "source": [
    "model_no15 <- lm(UCS ~ PC1 + PC3, data = rocks_with_PCA[-15,])\n",
    "#summary(model_no15)\n",
    "#par(mfrow = c(2,2))\n",
    "#plot(model_no15)\n",
    "LOOcv_PC1_PC3_no15 <- cv.lm(rocks_with_PCA[-15,] , model_no15, m =29, printit = FALSE, plotit = FALSE)\n",
    "RMSD_no15 <- func_RMSD(LOOcv_PC1_PC3_no15)"
   ]
  },
  {
   "cell_type": "markdown",
   "metadata": {},
   "source": [
    "#### Obs 11 and 15 removed"
   ]
  },
  {
   "cell_type": "code",
   "execution_count": 21,
   "metadata": {
    "collapsed": false,
    "scrolled": false
   },
   "outputs": [],
   "source": [
    "model_no11_no15 <- lm(UCS ~ PC1 + PC3, data = rocks_with_PCA[-c(11, 15),])\n",
    "#summary(model_no11_no15)\n",
    "#par(mfrow = c(2,2))\n",
    "#plot(model_no11_no15)\n",
    "LOOcv_PC1_PC3_no11_no15 <- cv.lm(rocks_with_PCA[-c(11, 15),], model_no11, m =28, printit = FALSE, plotit = FALSE)\n",
    "RMSD_no11_no15 <- func_RMSD(LOOcv_PC1_PC3_no11_no15)\n",
    "\n"
   ]
  },
  {
   "cell_type": "markdown",
   "metadata": {},
   "source": [
    "To allow for easy comparison between models, I'll create a data frame with some of the critical parameters and plot the predicted versus actual for each one"
   ]
  },
  {
   "cell_type": "code",
   "execution_count": 22,
   "metadata": {
    "collapsed": false
   },
   "outputs": [],
   "source": [
    "#make a data frame summarizing Adj R2, RSE and RMSD to compare the 4 models\n",
    "adj_r2 <- c(summary(model)$r.squared, summary(model_no15)$r.squared,summary(model_no11)$r.squared,\n",
    "            summary(model_no11_no15)$r.squared)\n",
    "RSE <- c(summary(model)$sigma, summary(model_no15)$sigma,summary(model_no11)$sigma,summary(model_no11_no15)$sigma)\n",
    "RMSD_all <- c(RMSD_PC1_PC3, RMSD_no15, RMSD_no11, RMSD_no11_no15)\n",
    "model_comparison <- data.frame(adj_r2, RSE, RMSD_all)\n",
    "row.names(model_comparison) <- c(\"PC1 +PC3\", \"PC1 +PC3 no 15\", \"PC1 +PC3 no 11\", \"PC1 +PC3 no 11 and 15\")"
   ]
  },
  {
   "cell_type": "code",
   "execution_count": 23,
   "metadata": {
    "collapsed": false
   },
   "outputs": [
    {
     "data": {
      "image/png": "[encoded data removed]",
      "text/plain": [
       "plot without title"
      ]
     },
     "metadata": {},
     "output_type": "display_data"
    }
   ],
   "source": [
    "#plot the predicted versus the actual observations for the 'pca no 15' model\n",
    "options(repr.plot.width=8, repr.plot.height=3)\n",
    "par(mfrow = c(1,3))\n",
    "plot(rocks_with_PCA[-c(15),]$UCS, LOOcv_PC1_PC3_no15$cvpred, xlab = 'UCS', ylab = 'predicted', \n",
    "    sub = 'no 15', cex.lab = 1, cex.axis = 0.7)\n",
    "abline(a = 0, b= 1) # add reference line for predicted = actual\n",
    "mtext(\"Predicted vs Actual PC1 + PC3\", outer = TRUE, line = -2)\n",
    "plot(rocks_with_PCA[-c(11),]$UCS, LOOcv_PC1_PC3_no11$cvpred, xlab = 'UCS', ylab = 'predicted', \n",
    "     sub = 'no 11', cex.lab = 1, cex.axis = 0.7)\n",
    "abline(a = 0, b= 1) # add reference line for predicted = actual\n",
    "plot(rocks_with_PCA[-c(11, 15),]$UCS, LOOcv_PC1_PC3_no11_no15$cvpred, xlab = 'UCS', ylab = 'predicted', \n",
    "     sub = 'no 11 or 15',  cex.lab = 1, cex.axis = 0.7)\n",
    "abline(a = 0, b= 1) # add reference line for predicted = actual"
   ]
  },
  {
   "cell_type": "code",
   "execution_count": 24,
   "metadata": {
    "collapsed": false
   },
   "outputs": [
    {
     "data": {
      "text/html": [
       "<table>\n",
       "<thead><tr><th></th><th scope=col>adj_r2</th><th scope=col>RSE</th><th scope=col>RMSD_all</th></tr></thead>\n",
       "<tbody>\n",
       "\t<tr><th scope=row>PC1 +PC3</th><td>0.8610089</td><td>4.129046 </td><td>4.373895 </td></tr>\n",
       "\t<tr><th scope=row>PC1 +PC3 no 15</th><td>0.9000749</td><td>3.567057 </td><td>3.822380 </td></tr>\n",
       "\t<tr><th scope=row>PC1 +PC3 no 11</th><td>0.8299470</td><td>4.063995 </td><td>4.273776 </td></tr>\n",
       "\t<tr><th scope=row>PC1 +PC3 no 11 and 15</th><td>0.8784934</td><td>3.500347 </td><td>3.732669 </td></tr>\n",
       "</tbody>\n",
       "</table>\n"
      ],
      "text/latex": [
       "\\begin{tabular}{r|lll}\n",
       "  & adj\\_r2 & RSE & RMSD\\_all\\\\\n",
       "\\hline\n",
       "\tPC1 +PC3 & 0.8610089 & 4.129046  & 4.373895 \\\\\n",
       "\tPC1 +PC3 no 15 & 0.9000749 & 3.567057  & 3.822380 \\\\\n",
       "\tPC1 +PC3 no 11 & 0.8299470 & 4.063995  & 4.273776 \\\\\n",
       "\tPC1 +PC3 no 11 and 15 & 0.8784934 & 3.500347  & 3.732669 \\\\\n",
       "\\end{tabular}\n"
      ],
      "text/markdown": [
       "\n",
       "| <!--/--> | adj_r2 | RSE | RMSD_all | \n",
       "|---|---|---|---|\n",
       "| PC1 +PC3 | 0.8610089 | 4.129046  | 4.373895  | \n",
       "| PC1 +PC3 no 15 | 0.9000749 | 3.567057  | 3.822380  | \n",
       "| PC1 +PC3 no 11 | 0.8299470 | 4.063995  | 4.273776  | \n",
       "| PC1 +PC3 no 11 and 15 | 0.8784934 | 3.500347  | 3.732669  | \n",
       "\n",
       "\n"
      ],
      "text/plain": [
       "                      adj_r2    RSE      RMSD_all\n",
       "PC1 +PC3              0.8610089 4.129046 4.373895\n",
       "PC1 +PC3 no 15        0.9000749 3.567057 3.822380\n",
       "PC1 +PC3 no 11        0.8299470 4.063995 4.273776\n",
       "PC1 +PC3 no 11 and 15 0.8784934 3.500347 3.732669"
      ]
     },
     "metadata": {},
     "output_type": "display_data"
    }
   ],
   "source": [
    "model_comparison"
   ]
  },
  {
   "cell_type": "markdown",
   "metadata": {},
   "source": [
    "Removing Obs 15 reduces the RSE and RMSD significantly. Removing both Obs 11 and Obs 15 further reduce these parameters but causes a corresponding decrease in the adjusted R2. \n",
    "\n",
    "Removing observations from such a small dataset should only be done with very good reason. In a real-life situation, this decision would be made in consultation with the subject matter experts and after investigating possible explanations.\n"
   ]
  },
  {
   "cell_type": "markdown",
   "metadata": {},
   "source": [
    "## Models without PCA\n",
    "\n",
    "A couple of the variables correlate very well with the dependent variable **UCS**. I am wondering if maybe a simple model with 1 or 2 of the variables might compare favourably with the model built using **PC1** + **PC3**. Such a model would have the advantage of being very straight forward and understandable so some compromise on performance might be acceptable....\n"
   ]
  },
  {
   "cell_type": "markdown",
   "metadata": {},
   "source": [
    "Using a function called *regsubsets* in the leaps package, I can quickly find out what subsets will give me the best models..."
   ]
  },
  {
   "cell_type": "code",
   "execution_count": 25,
   "metadata": {
    "collapsed": false
   },
   "outputs": [
    {
     "data": {
      "text/plain": [
       "Subset selection object\n",
       "Call: regsubsets.formula(UCS ~ ., data = rocks, nvmax = 3)\n",
       "7 Variables  (and intercept)\n",
       "       Forced in Forced out\n",
       "quartz     FALSE      FALSE\n",
       "plag       FALSE      FALSE\n",
       "kfds       FALSE      FALSE\n",
       "hb         FALSE      FALSE\n",
       "gs         FALSE      FALSE\n",
       "sf         FALSE      FALSE\n",
       "ar         FALSE      FALSE\n",
       "1 subsets of each size up to 3\n",
       "Selection Algorithm: exhaustive\n",
       "         quartz plag kfds hb  gs  sf  ar \n",
       "1  ( 1 ) \" \"    \" \"  \" \"  \" \" \"*\" \" \" \" \"\n",
       "2  ( 1 ) \"*\"    \" \"  \" \"  \" \" \"*\" \" \" \" \"\n",
       "3  ( 1 ) \"*\"    \" \"  \" \"  \" \" \"*\" \"*\" \" \""
      ]
     },
     "metadata": {},
     "output_type": "display_data"
    }
   ],
   "source": [
    "#Best Subset with max 3 variables (no point going higher, too much correlation)\n",
    "library(leaps)\n",
    "best_subset <- regsubsets(UCS~., data = rocks, nvmax = 3)\n",
    "summary(best_subset)"
   ]
  },
  {
   "cell_type": "markdown",
   "metadata": {},
   "source": [
    "This output tells me that the best model with one predictor uses **gs**, the best with two predictors uses **gs** and **quartz** and the best predictor with three variables uses **gs**, **quartz** and **sf**"
   ]
  },
  {
   "cell_type": "code",
   "execution_count": 26,
   "metadata": {
    "collapsed": false
   },
   "outputs": [
    {
     "data": {
      "text/html": [
       "<table>\n",
       "<thead><tr><th></th><th scope=col>gs</th><th scope=col>quartz</th><th scope=col>sf</th></tr></thead>\n",
       "<tbody>\n",
       "\t<tr><th scope=row>gs</th><td> 1.0000000</td><td>-0.3401121</td><td>-0.6676995</td></tr>\n",
       "\t<tr><th scope=row>quartz</th><td>-0.3401121</td><td> 1.0000000</td><td> 0.2171291</td></tr>\n",
       "\t<tr><th scope=row>sf</th><td>-0.6676995</td><td> 0.2171291</td><td> 1.0000000</td></tr>\n",
       "</tbody>\n",
       "</table>\n"
      ],
      "text/latex": [
       "\\begin{tabular}{r|lll}\n",
       "  & gs & quartz & sf\\\\\n",
       "\\hline\n",
       "\tgs &  1.0000000 & -0.3401121 & -0.6676995\\\\\n",
       "\tquartz & -0.3401121 &  1.0000000 &  0.2171291\\\\\n",
       "\tsf & -0.6676995 &  0.2171291 &  1.0000000\\\\\n",
       "\\end{tabular}\n"
      ],
      "text/markdown": [
       "\n",
       "| <!--/--> | gs | quartz | sf | \n",
       "|---|---|---|\n",
       "| gs |  1.0000000 | -0.3401121 | -0.6676995 | \n",
       "| quartz | -0.3401121 |  1.0000000 |  0.2171291 | \n",
       "| sf | -0.6676995 |  0.2171291 |  1.0000000 | \n",
       "\n",
       "\n"
      ],
      "text/plain": [
       "       gs         quartz     sf        \n",
       "gs      1.0000000 -0.3401121 -0.6676995\n",
       "quartz -0.3401121  1.0000000  0.2171291\n",
       "sf     -0.6676995  0.2171291  1.0000000"
      ]
     },
     "metadata": {},
     "output_type": "display_data"
    }
   ],
   "source": [
    "cor(rocks[c(\"gs\", \"quartz\", \"sf\")])"
   ]
  },
  {
   "cell_type": "markdown",
   "metadata": {},
   "source": [
    "But **gs** and **sf** are correlated (-0.668) and so only the 1 and 2 variable solutions were trialed to avoid multicolinearity. The same procedure as above was followed and the best performing model was found to be **gs** + **quartz** with Obs 15 removed."
   ]
  },
  {
   "cell_type": "code",
   "execution_count": 27,
   "metadata": {
    "collapsed": false
   },
   "outputs": [],
   "source": [
    "model_gs_quartz_no15 <- lm(UCS ~ gs + quartz, data = rocks[-15,])\n",
    "#summary(model_gs_quartz_no15)\n",
    "options(repr.plot.width=7, repr.plot.height=3)\n",
    "par(mfrow = c(1,2))\n",
    "#plot(model_gs_quartz_no15)\n",
    "LOOcv_gs_quartz_no15= cv.lm(rocks[-15,], model_gs_quartz_no15, m =29, printit = FALSE, plotit = FALSE)\n",
    "RMSD_gs_quartz_no15<-func_RMSD(LOOcv_gs_quartz_no15)\n"
   ]
  },
  {
   "cell_type": "code",
   "execution_count": 28,
   "metadata": {
    "collapsed": false
   },
   "outputs": [
    {
     "data": {
      "image/png": "[encoded data removed]",
      "text/plain": [
       "Plot with title \"Predicted vs Actual\""
      ]
     },
     "metadata": {},
     "output_type": "display_data"
    }
   ],
   "source": [
    "options(repr.plot.width=3, repr.plot.height=3)\n",
    "plot(rocks[-15,]$UCS, LOOcv_gs_quartz_no15$cvpred, xlab = 'UCS', ylab = 'predicted', \n",
    "     main = 'Predicted vs Actual',\n",
    "     sub = \"gs + quartz, no 15\",\n",
    "    cex.lab = 0.5, cex.axis = 0.7)\n",
    "abline(a = 0, b= 1) # add reference line for predicted = actual"
   ]
  },
  {
   "cell_type": "markdown",
   "metadata": {},
   "source": [
    "For arguments sake, lets just assume there was a valid reason to exlcude Obs 15 and so our model choice is between the **PC1** + **PC3** no 15 model  and the **gs** + **quartz** no 15 model"
   ]
  },
  {
   "cell_type": "code",
   "execution_count": 29,
   "metadata": {
    "collapsed": false
   },
   "outputs": [
    {
     "data": {
      "text/html": [
       "<table>\n",
       "<thead><tr><th></th><th scope=col>adj_r2</th><th scope=col>RSE</th><th scope=col>RMSD_all</th></tr></thead>\n",
       "<tbody>\n",
       "\t<tr><th scope=row>PC1 +PC3 no 15</th><td>0.9000749</td><td>3.567057 </td><td>3.822380 </td></tr>\n",
       "\t<tr><th scope=row>gs and quartz no 15</th><td>0.8357501</td><td>4.573255 </td><td>4.801845 </td></tr>\n",
       "</tbody>\n",
       "</table>\n"
      ],
      "text/latex": [
       "\\begin{tabular}{r|lll}\n",
       "  & adj\\_r2 & RSE & RMSD\\_all\\\\\n",
       "\\hline\n",
       "\tPC1 +PC3 no 15 & 0.9000749 & 3.567057  & 3.822380 \\\\\n",
       "\tgs and quartz no 15 & 0.8357501 & 4.573255  & 4.801845 \\\\\n",
       "\\end{tabular}\n"
      ],
      "text/markdown": [
       "\n",
       "| <!--/--> | adj_r2 | RSE | RMSD_all | \n",
       "|---|---|\n",
       "| PC1 +PC3 no 15 | 0.9000749 | 3.567057  | 3.822380  | \n",
       "| gs and quartz no 15 | 0.8357501 | 4.573255  | 4.801845  | \n",
       "\n",
       "\n"
      ],
      "text/plain": [
       "                    adj_r2    RSE      RMSD_all\n",
       "PC1 +PC3 no 15      0.9000749 3.567057 3.822380\n",
       "gs and quartz no 15 0.8357501 4.573255 4.801845"
      ]
     },
     "metadata": {},
     "output_type": "display_data"
    }
   ],
   "source": [
    "#add the paramters for the gs + quartz' model to the model comparison data frame\n",
    "gs_quartz <- c(summary(model_gs_quartz_no15)$r.squared, summary(model_gs_quartz_no15)$sigma, RMSD_gs_quartz_no15 )\n",
    "model_comparison <- rbind(model_comparison, gs_quartz)\n",
    "rownames(model_comparison)[5] <- \"gs and quartz no 15\"\n",
    "#add removed all rejected models\n",
    "model_comparison <- model_comparison[-c(1, 3, 4),]\n",
    "model_comparison"
   ]
  },
  {
   "cell_type": "markdown",
   "metadata": {},
   "source": [
    "## Some Concluding Remarks\n",
    "\n",
    "While the models built on the PCA analysis have better performance characteristics and only require 2 variables (**PC1** and **PC3**) in the model itself, they require the information on all 7 original variables to be known and complicate the interpretability of the model.\n",
    "\n",
    "The **gs** + **quartz** model, while having lower performance characteristics may be preferable if understandability is a major factor. Also, if a business has to pay for the required information (in the form of purchasing data or getting testing done) it may also be a preferable option from a cost-benefit perspective to only require 2 instead of 7 variables to be known.\n"
   ]
  },
  {
   "cell_type": "code",
   "execution_count": null,
   "metadata": {
    "collapsed": true
   },
   "outputs": [],
   "source": []
  }
 ],
 "metadata": {
  "kernelspec": {
   "display_name": "R",
   "language": "R",
   "name": "ir"
  },
  "language_info": {
   "codemirror_mode": "r",
   "file_extension": ".r",
   "mimetype": "text/x-r-source",
   "name": "R",
   "pygments_lexer": "r",
   "version": "3.3.3"
  }
 },
 "nbformat": 4,
 "nbformat_minor": 2
}
